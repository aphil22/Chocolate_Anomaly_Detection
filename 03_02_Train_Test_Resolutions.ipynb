{
 "cells": [
  {
   "cell_type": "code",
   "execution_count": 1,
   "metadata": {},
   "outputs": [],
   "source": [
    "import os\n",
    "import torch\n",
    "import numpy as np\n",
    "import torch.nn as nn\n",
    "import torch.optim as optim\n",
    "import torch.nn.functional\n",
    "import torchvision.transforms as transforms\n",
    "from torchvision.datasets import ImageFolder\n",
    "from torch.utils.data import DataLoader, random_split\n",
    "from sklearn.metrics import average_precision_score, accuracy_score, recall_score, precision_score, f1_score\n",
    "import torchvision.models as models\n",
    "from efficientnet_pytorch import EfficientNet\n",
    "import pandas as pd\n",
    "import time\n",
    "import matplotlib.pyplot as plt\n",
    "from tqdm import tqdm"
   ]
  },
  {
   "cell_type": "code",
   "execution_count": 2,
   "metadata": {},
   "outputs": [],
   "source": [
    "import warnings\n",
    "warnings.filterwarnings(\"ignore\", category=UserWarning)"
   ]
  },
  {
   "cell_type": "code",
   "execution_count": 3,
   "metadata": {},
   "outputs": [],
   "source": [
    "\n",
    "# Set the paths\n",
    "root_folder = r\"C:\\ThesisMedia\\CroppedPralines\\Grouped_dataset\\Thesis_Dataset_Resolution\"\n",
    "output_dir = r\"C:\\ThesisMedia\\CroppedPralines\\Grouped_dataset\\Thesis_Dataset_Resolution\\Outputs\"\n",
    "\n",
    "# Set the device (CUDA if available, otherwise CPU)\n",
    "device = torch.device(\"cuda\" if torch.cuda.is_available() else \"cpu\")\n",
    "\n",
    "# Define the resolutions to study\n",
    "resolutions = [\"2160p\", \"1080p\", \"720p\", \"480p\", \"360p\"] \n",
    "\n"
   ]
  },
  {
   "cell_type": "code",
   "execution_count": 5,
   "metadata": {},
   "outputs": [],
   "source": [
    "batch_size = 64\n",
    "num_epochs = 10\n",
    "num_classes = 2\n",
    "window_size = 3  # Smoothing plot curve\n",
    "num_workers = 8"
   ]
  },
  {
   "cell_type": "code",
   "execution_count": 6,
   "metadata": {},
   "outputs": [],
   "source": [
    "# Define the models to test\n",
    "models_to_test = [\n",
    "    ('vgg11_bn', models.vgg11_bn(pretrained=True)),\n",
    "    ('ResNet_bn', models.resnet50(pretrained=True)),\n",
    "    ('Inception_bn', models.inception_v3(pretrained=True)),\n",
    "    ('EfficientNet_bn', EfficientNet.from_pretrained('efficientnet-b0')),\n",
    "    ('MobileNet_bn', models.mobilenet_v2(pretrained=True))\n",
    "]"
   ]
  },
  {
   "cell_type": "code",
   "execution_count": 7,
   "metadata": {},
   "outputs": [],
   "source": [
    "def get_transform(model_name):\n",
    "    if model_name == 'Inception_bn':\n",
    "        transform = transforms.Compose([\n",
    "        transforms.Resize((299, 299)),\n",
    "        transforms.ToTensor(),\n",
    "        transforms.Normalize(mean=[0.485, 0.456, 0.406], std=[0.229, 0.224, 0.225])\n",
    "    ])\n",
    "    else:\n",
    "        transform = transforms.Compose([\n",
    "        transforms.Resize((224, 224)),\n",
    "        transforms.ToTensor(),\n",
    "        transforms.Normalize(mean=[0.485, 0.456, 0.406], std=[0.229, 0.224, 0.225])\n",
    "    ])\n",
    "    return transform"
   ]
  },
  {
   "cell_type": "code",
   "execution_count": 8,
   "metadata": {},
   "outputs": [],
   "source": [
    "def create_data_loader(dataset, batch_size, shuffle):\n",
    "    return DataLoader(\n",
    "        dataset,\n",
    "        batch_size=batch_size,\n",
    "        shuffle=shuffle,\n",
    "        num_workers=num_workers,\n",
    "        pin_memory=False\n",
    "    )"
   ]
  },
  {
   "cell_type": "code",
   "execution_count": 9,
   "metadata": {},
   "outputs": [],
   "source": [
    "def modify_classification_layer(model, model_name, num_classes):\n",
    "    # Modify the classification layer for the model\n",
    "        if model_name == 'EfficientNet_bn':\n",
    "            model._fc = nn.Sequential(\n",
    "                nn.Linear(in_features=1280, out_features=512),\n",
    "                nn.BatchNorm1d(512),\n",
    "                nn.ReLU(),\n",
    "                nn.Dropout(0.5),  # Add dropout layer with dropout rate of 0.5\n",
    "                nn.Linear(in_features=512, out_features=num_classes)\n",
    "            )\n",
    "        elif model_name == 'MobileNet_bn':\n",
    "            num_features = model.classifier[-1].in_features\n",
    "            model.classifier[-1] = nn.Linear(in_features=num_features, out_features=num_classes)\n",
    "            \n",
    "        elif model_name == 'ResNet_bn' or model_name == 'Inception_bn':\n",
    "            num_features = model.fc.in_features\n",
    "            model.fc = nn.Linear(in_features=num_features, out_features=num_classes)\n",
    "        else:\n",
    "            num_features = model.classifier[-1].in_features\n",
    "            model.classifier[-1] = nn.Linear(in_features=num_features, out_features=num_classes)  # 2 classes: Good and Bad\n"
   ]
  },
  {
   "cell_type": "code",
   "execution_count": 10,
   "metadata": {},
   "outputs": [],
   "source": [
    "def train_model(model, train_loader, val_loader, model_name, train_res, num_epochs):\n",
    "\n",
    "    global train_results_df\n",
    "\n",
    "    # Modify the classification layer for the model\n",
    "    modify_classification_layer(model, model_name, num_classes)\n",
    "    \n",
    "    model.to(device)\n",
    "\n",
    "    # Define your loss function and optimizer\n",
    "    criterion = nn.CrossEntropyLoss()\n",
    "    optimizer = optim.Adam(model.parameters(), lr=0.001)\n",
    "\n",
    "    # Training loop\n",
    "    train_map_values = []\n",
    "    val_map_values = []\n",
    "    train_accuracy_values = []\n",
    "    val_accuracy_values = []\n",
    "    y_true_train = []\n",
    "    y_pred_train = []\n",
    "    y_true_val = []\n",
    "    y_pred_val = []\n",
    "\n",
    "    start_time = time.time()\n",
    "\n",
    "    for epoch in range(num_epochs):\n",
    "        model.train()  # Set model to training mode\n",
    "        running_loss = 0.0\n",
    "        train_correct = 0\n",
    "        train_total = 0\n",
    "        y_true_train = []\n",
    "        y_pred_train = []\n",
    "\n",
    "        # Create a progress bar for the training loop\n",
    "        progress_bar = tqdm(train_loader, desc=f\"Model: {model_name} - Training Res: {train_res} - Epoch {epoch + 1}/{num_epochs}\", leave=False)\n",
    "\n",
    "        for images, labels in progress_bar:\n",
    "            images = images.to(device)\n",
    "            labels = labels.to(device)\n",
    "\n",
    "            optimizer.zero_grad()\n",
    "\n",
    "            # Forward pass\n",
    "            if model_name == 'Inception_bn':\n",
    "                outputs, _ = model(images)\n",
    "            else:\n",
    "                outputs = model(images)\n",
    "\n",
    "            loss = criterion(outputs, labels)\n",
    "\n",
    "            # Backward pass and optimization\n",
    "            loss.backward()\n",
    "            optimizer.step()\n",
    "\n",
    "            running_loss += loss.item()\n",
    "\n",
    "            _, predicted = torch.max(outputs.data, 1)\n",
    "            train_total += labels.size(0)\n",
    "            train_correct += (predicted == labels).sum().item()\n",
    "\n",
    "            # Update the progress bar with the current loss\n",
    "            progress_bar.set_postfix({\"Loss\": loss.item()})\n",
    "\n",
    "            # Store the true labels and predicted labels for mAP calculation\n",
    "            y_true_train.extend(labels.cpu().numpy())\n",
    "            y_pred_train.extend(predicted.cpu().numpy())\n",
    "\n",
    "        epoch_loss = running_loss / len(train_loader)\n",
    "        epoch_train_accuracy = train_correct / train_total\n",
    "        train_map = average_precision_score(y_true_train, y_pred_train)\n",
    "        train_map_values.append(train_map)\n",
    "        train_accuracy_values.append(epoch_train_accuracy)\n",
    "        print(f\"Training - {train_res} - Epoch [{epoch + 1}/{num_epochs}] - Training Loss: {epoch_loss:.4f} - Training Accuracy: {epoch_train_accuracy:.4f}\")\n",
    "\n",
    "        if epoch == 0 or train_map > max(train_map_values[:-1]):\n",
    "            torch.save(model.state_dict(), f'{output_dir}/Model_{model_name}_{train_res}.pt')\n",
    "\n",
    "        # Clear GPU cache to free up memory\n",
    "        torch.cuda.empty_cache()\n",
    "\n",
    "        # Validation loop\n",
    "        model.eval()  # Set model to evaluation mode\n",
    "        val_correct = 0\n",
    "        val_total = 0\n",
    "        y_true_val = []\n",
    "        y_pred_val = []\n",
    "\n",
    "        with torch.no_grad():\n",
    "            for images, labels in val_loader:\n",
    "                images = images.to(device)\n",
    "                labels = labels.to(device)\n",
    "\n",
    "                outputs = model(images)\n",
    "\n",
    "                _, predicted = torch.max(outputs.data, 1)\n",
    "\n",
    "                val_total += labels.size(0)\n",
    "                val_correct += (predicted == labels).sum().item()\n",
    "\n",
    "                # Store the true labels and predicted labels for mAP calculation\n",
    "                y_true_val.extend(labels.cpu().numpy())\n",
    "                y_pred_val.extend(predicted.cpu().numpy())\n",
    "\n",
    "        epoch_val_accuracy = val_correct / val_total\n",
    "        val_map = average_precision_score(y_true_val, y_pred_val)\n",
    "        val_map_values.append(val_map)\n",
    "        val_accuracy = accuracy_score(y_true_val, y_pred_val)\n",
    "        val_accuracy_values.append(val_accuracy)\n",
    "        print(f\"Validation - {train_res} - Epoch [{epoch + 1}/{num_epochs}] - Validation Accuracy: {epoch_val_accuracy:.4f}\")\n",
    "\n",
    "        # Clear GPU cache to free up memory\n",
    "        torch.cuda.empty_cache()\n",
    "\n",
    "    end_time = time.time()\n",
    "    global training_duration\n",
    "    training_duration = end_time - start_time\n",
    "\n",
    "    # Smooth the mAP curve using a moving average with a window size of 5\n",
    "    smoothed_train_map_values = np.convolve(train_map_values, np.ones(window_size) / window_size, mode='valid')\n",
    "    smoothed_val_map_values = np.convolve(val_map_values, np.ones(window_size) / window_size, mode='valid')\n",
    "\n",
    "    # Plot the training and validation mAP graph\n",
    "    plt.plot(range(window_size, num_epochs + 1), smoothed_train_map_values, label=f'Training')\n",
    "    plt.plot(range(window_size, num_epochs + 1), smoothed_val_map_values, label=f'Validation')\n",
    "    plt.xlabel('Epoch')\n",
    "    plt.ylabel('mAP')\n",
    "    plt.title(f'mAP for {model_name} - Resolution: {train_res}')\n",
    "    plt.legend(loc='upper left')\n",
    "    plt.savefig(f'{output_dir}/mAP_Plot_Resolution_training/{model_name}_Res_{train_res}_mAP_graph.png')\n",
    "    plt.close()\n",
    "    \n",
    "    train_result = pd.DataFrame({\n",
    "            'Model': model_name,\n",
    "            'Train_resolution': train_res,\n",
    "            'Training_Duration':training_duration,\n",
    "            'Train_mAP':train_map_values[-1],\n",
    "            'val_mAP': val_map_values[-1],\n",
    "            'Train_Accuracy': train_accuracy_values[-1],\n",
    "            'val_Accuracy': val_accuracy_values[-1]\n",
    "    }, index=[0])\n",
    "    \n",
    "    train_results_df = pd.concat([train_results_df, train_result], ignore_index=True)\n",
    "\n",
    "    # Clear GPU cache to free up memory\n",
    "    torch.cuda.empty_cache()"
   ]
  },
  {
   "cell_type": "code",
   "execution_count": 11,
   "metadata": {},
   "outputs": [],
   "source": [
    "def test_model(model, test_loader, model_name, train_res, test_res):\n",
    "    global test_results_df\n",
    "    model.eval()  # Set model to evaluation mode\n",
    "    test_y_true = []\n",
    "    test_y_pred = []\n",
    "\n",
    "    with torch.no_grad():\n",
    "        for images, labels in test_loader:\n",
    "            images = images.to(device)\n",
    "            labels = labels.to(device)\n",
    "\n",
    "            outputs = model(images)\n",
    "\n",
    "            _, predicted = torch.max(outputs.data, 1)\n",
    "\n",
    "            # Store the true labels and predicted labels for mAP calculation\n",
    "            test_y_true.extend(labels.cpu().numpy())\n",
    "            test_y_pred.extend(predicted.cpu().numpy())\n",
    "\n",
    "    # Calculate metrics for the test set\n",
    "    test_accuracy = accuracy_score(test_y_true, test_y_pred)\n",
    "    test_recall = recall_score(test_y_true, test_y_pred)\n",
    "    test_precision = precision_score(test_y_true, test_y_pred)\n",
    "    test_f1_score = f1_score(test_y_true, test_y_pred)\n",
    "    test_map = average_precision_score(test_y_true, test_y_pred)\n",
    "\n",
    "    test_result = pd.DataFrame({\n",
    "            'Model': model_name,\n",
    "            'Train_resolution': train_res,\n",
    "            'Test_resolution': test_res,\n",
    "            'Test_mAP': test_map,\n",
    "            'Test_Accuracy': test_accuracy,\n",
    "            'Test_Recall': test_recall,\n",
    "            'Test_Precision':test_precision,\n",
    "            'Test_F1_Score': test_f1_score\n",
    "    }, index=[0])\n",
    "\n",
    "    test_results_df = pd.concat([test_results_df, test_result], ignore_index=True)\n"
   ]
  },
  {
   "cell_type": "code",
   "execution_count": 12,
   "metadata": {},
   "outputs": [],
   "source": [
    "def main():\n",
    "    global train_results_df\n",
    "    global test_results_df\n",
    "    train_results_df = pd.DataFrame(columns=['Model', 'Train_resolution','Training_Duration', 'Train_mAP',\n",
    "                                             'Train_Accuracy', 'val_Accuracy', 'val_mAP'])\n",
    "    test_results_df = pd.DataFrame(columns=['Model', 'Train_resolution', 'Test_resolution', \n",
    "                          'Test_mAP', 'Test_Accuracy', 'Test_Recall', 'Test_Precision', 'Test_F1_Score'])\n",
    "    # Separate DataFrames to store training mAP values for each model\n",
    "    training_mAP_data = {}\n",
    "\n",
    "    for model_name, model in models_to_test:\n",
    "        model = model.to(device)\n",
    "\n",
    "        for train_res in resolutions:\n",
    "            # Load train dataset\n",
    "            train_dataset = ImageFolder(root=os.path.join(root_folder, f'Train_{train_res}'), transform=get_transform(model_name))\n",
    "\n",
    "             # Split the dataset into training and validation sets (80-20 split)\n",
    "            train_dataset, val_dataset = random_split(train_dataset, [0.8, 0.2], generator=torch.Generator().manual_seed(42))\n",
    "\n",
    "            train_loader = create_data_loader(train_dataset, batch_size=batch_size, shuffle=True)\n",
    "            val_loader = create_data_loader(val_dataset, batch_size=batch_size, shuffle=False)\n",
    "\n",
    "            # Train the model and plot the training and validation mAP for the training resolution\n",
    "            train_model(model, train_loader, val_loader, model_name, train_res, num_epochs)\n",
    "\n",
    "            # Load test datasets for all resolutions\n",
    "            for test_res in resolutions:\n",
    "                test_dataset = ImageFolder(root=os.path.join(root_folder, f'Test_{test_res}'), transform=get_transform(model_name))\n",
    "                test_loader = create_data_loader(test_dataset, batch_size=batch_size, shuffle=False)\n",
    "                print(f\"Testing - {model_name} Train Res: {train_res}, Test Res: {test_res} - size: {len(test_dataset)}\")\n",
    "\n",
    "                # Test the model on the test dataset\n",
    "                model.load_state_dict(torch.load(f'{output_dir}/Model_{model_name}_{train_res}.pt'))\n",
    "                model.to(device)\n",
    "                test_model(model, test_loader, model_name, train_res, test_res)\n",
    "\n",
    "        # Clear GPU cache to free up memory\n",
    "        torch.cuda.empty_cache()\n",
    "\n",
    "    train_results_df.to_excel(f'{output_dir}/Training_results.xlsx', index=False)\n",
    "    test_results_df.to_excel(f'{output_dir}/Testing_results.xlsx', index=False)\n"
   ]
  },
  {
   "cell_type": "code",
   "execution_count": 13,
   "metadata": {},
   "outputs": [
    {
     "name": "stderr",
     "output_type": "stream",
     "text": [
      "                                                                                                                \r"
     ]
    },
    {
     "name": "stdout",
     "output_type": "stream",
     "text": [
      "Training - 2160p - Epoch [1/10] - Training Loss: 1.1237 - Training Accuracy: 0.8263\n",
      "Validation - 2160p - Epoch [1/10] - Validation Accuracy: 0.9425\n"
     ]
    },
    {
     "name": "stderr",
     "output_type": "stream",
     "text": [
      "                                                                                                                \r"
     ]
    },
    {
     "name": "stdout",
     "output_type": "stream",
     "text": [
      "Training - 2160p - Epoch [2/10] - Training Loss: 0.1643 - Training Accuracy: 0.9550\n",
      "Validation - 2160p - Epoch [2/10] - Validation Accuracy: 0.9425\n"
     ]
    },
    {
     "name": "stderr",
     "output_type": "stream",
     "text": [
      "                                                                                                                 \r"
     ]
    },
    {
     "name": "stdout",
     "output_type": "stream",
     "text": [
      "Training - 2160p - Epoch [3/10] - Training Loss: 0.0872 - Training Accuracy: 0.9738\n",
      "Validation - 2160p - Epoch [3/10] - Validation Accuracy: 0.9650\n"
     ]
    },
    {
     "name": "stderr",
     "output_type": "stream",
     "text": [
      "                                                                                                                 \r"
     ]
    },
    {
     "name": "stdout",
     "output_type": "stream",
     "text": [
      "Training - 2160p - Epoch [4/10] - Training Loss: 0.0657 - Training Accuracy: 0.9738\n",
      "Validation - 2160p - Epoch [4/10] - Validation Accuracy: 0.9525\n"
     ]
    },
    {
     "name": "stderr",
     "output_type": "stream",
     "text": [
      "                                                                                                                  \r"
     ]
    },
    {
     "name": "stdout",
     "output_type": "stream",
     "text": [
      "Training - 2160p - Epoch [5/10] - Training Loss: 0.0415 - Training Accuracy: 0.9869\n",
      "Validation - 2160p - Epoch [5/10] - Validation Accuracy: 0.9675\n"
     ]
    },
    {
     "name": "stderr",
     "output_type": "stream",
     "text": [
      "                                                                                                                  \r"
     ]
    },
    {
     "name": "stdout",
     "output_type": "stream",
     "text": [
      "Training - 2160p - Epoch [6/10] - Training Loss: 0.0091 - Training Accuracy: 0.9969\n",
      "Validation - 2160p - Epoch [6/10] - Validation Accuracy: 0.9825\n"
     ]
    },
    {
     "name": "stderr",
     "output_type": "stream",
     "text": [
      "                                                                                                                  \r"
     ]
    },
    {
     "name": "stdout",
     "output_type": "stream",
     "text": [
      "Training - 2160p - Epoch [7/10] - Training Loss: 0.0726 - Training Accuracy: 0.9769\n",
      "Validation - 2160p - Epoch [7/10] - Validation Accuracy: 0.9625\n"
     ]
    },
    {
     "name": "stderr",
     "output_type": "stream",
     "text": [
      "                                                                                                                 \r"
     ]
    },
    {
     "name": "stdout",
     "output_type": "stream",
     "text": [
      "Training - 2160p - Epoch [8/10] - Training Loss: 0.0445 - Training Accuracy: 0.9850\n",
      "Validation - 2160p - Epoch [8/10] - Validation Accuracy: 0.9650\n"
     ]
    },
    {
     "name": "stderr",
     "output_type": "stream",
     "text": [
      "                                                                                                                 \r"
     ]
    },
    {
     "name": "stdout",
     "output_type": "stream",
     "text": [
      "Training - 2160p - Epoch [9/10] - Training Loss: 0.0446 - Training Accuracy: 0.9856\n",
      "Validation - 2160p - Epoch [9/10] - Validation Accuracy: 0.9775\n"
     ]
    },
    {
     "name": "stderr",
     "output_type": "stream",
     "text": [
      "                                                                                                                   \r"
     ]
    },
    {
     "name": "stdout",
     "output_type": "stream",
     "text": [
      "Training - 2160p - Epoch [10/10] - Training Loss: 0.0132 - Training Accuracy: 0.9938\n",
      "Validation - 2160p - Epoch [10/10] - Validation Accuracy: 0.9700\n",
      "Testing - vgg11_bn Train Res: 2160p, Test Res: 2160p - size: 600\n",
      "Testing - vgg11_bn Train Res: 2160p, Test Res: 1080p - size: 600\n",
      "Testing - vgg11_bn Train Res: 2160p, Test Res: 720p - size: 600\n",
      "Testing - vgg11_bn Train Res: 2160p, Test Res: 480p - size: 600\n",
      "Testing - vgg11_bn Train Res: 2160p, Test Res: 360p - size: 600\n"
     ]
    },
    {
     "name": "stderr",
     "output_type": "stream",
     "text": [
      "                                                                                                               \r"
     ]
    },
    {
     "name": "stdout",
     "output_type": "stream",
     "text": [
      "Training - 1080p - Epoch [1/10] - Training Loss: 0.6060 - Training Accuracy: 0.7338\n",
      "Validation - 1080p - Epoch [1/10] - Validation Accuracy: 0.7350\n"
     ]
    },
    {
     "name": "stderr",
     "output_type": "stream",
     "text": [
      "                                                                                                               \r"
     ]
    },
    {
     "name": "stdout",
     "output_type": "stream",
     "text": [
      "Training - 1080p - Epoch [2/10] - Training Loss: 0.4622 - Training Accuracy: 0.8031\n",
      "Validation - 1080p - Epoch [2/10] - Validation Accuracy: 0.7975\n"
     ]
    },
    {
     "name": "stderr",
     "output_type": "stream",
     "text": [
      "                                                                                                               \r"
     ]
    },
    {
     "name": "stdout",
     "output_type": "stream",
     "text": [
      "Training - 1080p - Epoch [3/10] - Training Loss: 0.3796 - Training Accuracy: 0.8350\n",
      "Validation - 1080p - Epoch [3/10] - Validation Accuracy: 0.7100\n"
     ]
    },
    {
     "name": "stderr",
     "output_type": "stream",
     "text": [
      "                                                                                                               \r"
     ]
    },
    {
     "name": "stdout",
     "output_type": "stream",
     "text": [
      "Training - 1080p - Epoch [4/10] - Training Loss: 0.3432 - Training Accuracy: 0.8462\n",
      "Validation - 1080p - Epoch [4/10] - Validation Accuracy: 0.8750\n"
     ]
    },
    {
     "name": "stderr",
     "output_type": "stream",
     "text": [
      "                                                                                                               \r"
     ]
    },
    {
     "name": "stdout",
     "output_type": "stream",
     "text": [
      "Training - 1080p - Epoch [5/10] - Training Loss: 0.3004 - Training Accuracy: 0.8794\n",
      "Validation - 1080p - Epoch [5/10] - Validation Accuracy: 0.7100\n"
     ]
    },
    {
     "name": "stderr",
     "output_type": "stream",
     "text": [
      "                                                                                                               \r"
     ]
    },
    {
     "name": "stdout",
     "output_type": "stream",
     "text": [
      "Training - 1080p - Epoch [6/10] - Training Loss: 0.2738 - Training Accuracy: 0.8900\n",
      "Validation - 1080p - Epoch [6/10] - Validation Accuracy: 0.9025\n"
     ]
    },
    {
     "name": "stderr",
     "output_type": "stream",
     "text": [
      "                                                                                                               \r"
     ]
    },
    {
     "name": "stdout",
     "output_type": "stream",
     "text": [
      "Training - 1080p - Epoch [7/10] - Training Loss: 0.2747 - Training Accuracy: 0.8994\n",
      "Validation - 1080p - Epoch [7/10] - Validation Accuracy: 0.8950\n"
     ]
    },
    {
     "name": "stderr",
     "output_type": "stream",
     "text": [
      "                                                                                                               \r"
     ]
    },
    {
     "name": "stdout",
     "output_type": "stream",
     "text": [
      "Training - 1080p - Epoch [8/10] - Training Loss: 0.2432 - Training Accuracy: 0.9050\n",
      "Validation - 1080p - Epoch [8/10] - Validation Accuracy: 0.7875\n"
     ]
    },
    {
     "name": "stderr",
     "output_type": "stream",
     "text": [
      "                                                                                                               \r"
     ]
    },
    {
     "name": "stdout",
     "output_type": "stream",
     "text": [
      "Training - 1080p - Epoch [9/10] - Training Loss: 0.2351 - Training Accuracy: 0.9044\n",
      "Validation - 1080p - Epoch [9/10] - Validation Accuracy: 0.9000\n"
     ]
    },
    {
     "name": "stderr",
     "output_type": "stream",
     "text": [
      "                                                                                                                 \r"
     ]
    },
    {
     "name": "stdout",
     "output_type": "stream",
     "text": [
      "Training - 1080p - Epoch [10/10] - Training Loss: 0.1934 - Training Accuracy: 0.9237\n",
      "Validation - 1080p - Epoch [10/10] - Validation Accuracy: 0.9000\n",
      "Testing - vgg11_bn Train Res: 1080p, Test Res: 2160p - size: 600\n",
      "Testing - vgg11_bn Train Res: 1080p, Test Res: 1080p - size: 600\n",
      "Testing - vgg11_bn Train Res: 1080p, Test Res: 720p - size: 600\n",
      "Testing - vgg11_bn Train Res: 1080p, Test Res: 480p - size: 600\n",
      "Testing - vgg11_bn Train Res: 1080p, Test Res: 360p - size: 600\n"
     ]
    },
    {
     "name": "stderr",
     "output_type": "stream",
     "text": [
      "                                                                                                              \r"
     ]
    },
    {
     "name": "stdout",
     "output_type": "stream",
     "text": [
      "Training - 720p - Epoch [1/10] - Training Loss: 0.3131 - Training Accuracy: 0.8769\n",
      "Validation - 720p - Epoch [1/10] - Validation Accuracy: 0.9025\n"
     ]
    },
    {
     "name": "stderr",
     "output_type": "stream",
     "text": [
      "                                                                                                              \r"
     ]
    },
    {
     "name": "stdout",
     "output_type": "stream",
     "text": [
      "Training - 720p - Epoch [2/10] - Training Loss: 0.2323 - Training Accuracy: 0.9119\n",
      "Validation - 720p - Epoch [2/10] - Validation Accuracy: 0.8825\n"
     ]
    },
    {
     "name": "stderr",
     "output_type": "stream",
     "text": [
      "                                                                                                               \r"
     ]
    },
    {
     "name": "stdout",
     "output_type": "stream",
     "text": [
      "Training - 720p - Epoch [3/10] - Training Loss: 0.1690 - Training Accuracy: 0.9363\n",
      "Validation - 720p - Epoch [3/10] - Validation Accuracy: 0.7075\n"
     ]
    },
    {
     "name": "stderr",
     "output_type": "stream",
     "text": [
      "                                                                                                               \r"
     ]
    },
    {
     "name": "stdout",
     "output_type": "stream",
     "text": [
      "Training - 720p - Epoch [4/10] - Training Loss: 0.1161 - Training Accuracy: 0.9619\n",
      "Validation - 720p - Epoch [4/10] - Validation Accuracy: 0.9600\n"
     ]
    },
    {
     "name": "stderr",
     "output_type": "stream",
     "text": [
      "                                                                                                               \r"
     ]
    },
    {
     "name": "stdout",
     "output_type": "stream",
     "text": [
      "Training - 720p - Epoch [5/10] - Training Loss: 0.0898 - Training Accuracy: 0.9694\n",
      "Validation - 720p - Epoch [5/10] - Validation Accuracy: 0.9150\n"
     ]
    },
    {
     "name": "stderr",
     "output_type": "stream",
     "text": [
      "                                                                                                               \r"
     ]
    },
    {
     "name": "stdout",
     "output_type": "stream",
     "text": [
      "Training - 720p - Epoch [6/10] - Training Loss: 0.0865 - Training Accuracy: 0.9731\n",
      "Validation - 720p - Epoch [6/10] - Validation Accuracy: 0.9625\n"
     ]
    },
    {
     "name": "stderr",
     "output_type": "stream",
     "text": [
      "                                                                                                                \r"
     ]
    },
    {
     "name": "stdout",
     "output_type": "stream",
     "text": [
      "Training - 720p - Epoch [7/10] - Training Loss: 0.0649 - Training Accuracy: 0.9762\n",
      "Validation - 720p - Epoch [7/10] - Validation Accuracy: 0.9275\n"
     ]
    },
    {
     "name": "stderr",
     "output_type": "stream",
     "text": [
      "                                                                                                                \r"
     ]
    },
    {
     "name": "stdout",
     "output_type": "stream",
     "text": [
      "Training - 720p - Epoch [8/10] - Training Loss: 0.0515 - Training Accuracy: 0.9794\n",
      "Validation - 720p - Epoch [8/10] - Validation Accuracy: 0.9675\n"
     ]
    },
    {
     "name": "stderr",
     "output_type": "stream",
     "text": [
      "                                                                                                                 \r"
     ]
    },
    {
     "name": "stdout",
     "output_type": "stream",
     "text": [
      "Training - 720p - Epoch [9/10] - Training Loss: 0.0293 - Training Accuracy: 0.9888\n",
      "Validation - 720p - Epoch [9/10] - Validation Accuracy: 0.9750\n"
     ]
    },
    {
     "name": "stderr",
     "output_type": "stream",
     "text": [
      "                                                                                                                 \r"
     ]
    },
    {
     "name": "stdout",
     "output_type": "stream",
     "text": [
      "Training - 720p - Epoch [10/10] - Training Loss: 0.0428 - Training Accuracy: 0.9862\n",
      "Validation - 720p - Epoch [10/10] - Validation Accuracy: 0.9875\n",
      "Testing - vgg11_bn Train Res: 720p, Test Res: 2160p - size: 600\n",
      "Testing - vgg11_bn Train Res: 720p, Test Res: 1080p - size: 600\n",
      "Testing - vgg11_bn Train Res: 720p, Test Res: 720p - size: 600\n",
      "Testing - vgg11_bn Train Res: 720p, Test Res: 480p - size: 600\n",
      "Testing - vgg11_bn Train Res: 720p, Test Res: 360p - size: 600\n"
     ]
    },
    {
     "name": "stderr",
     "output_type": "stream",
     "text": [
      "                                                                                                               \r"
     ]
    },
    {
     "name": "stdout",
     "output_type": "stream",
     "text": [
      "Training - 480p - Epoch [1/10] - Training Loss: 0.1604 - Training Accuracy: 0.9381\n",
      "Validation - 480p - Epoch [1/10] - Validation Accuracy: 0.9475\n"
     ]
    },
    {
     "name": "stderr",
     "output_type": "stream",
     "text": [
      "                                                                                                               \r"
     ]
    },
    {
     "name": "stdout",
     "output_type": "stream",
     "text": [
      "Training - 480p - Epoch [2/10] - Training Loss: 0.0656 - Training Accuracy: 0.9788\n",
      "Validation - 480p - Epoch [2/10] - Validation Accuracy: 0.9625\n"
     ]
    },
    {
     "name": "stderr",
     "output_type": "stream",
     "text": [
      "                                                                                                                \r"
     ]
    },
    {
     "name": "stdout",
     "output_type": "stream",
     "text": [
      "Training - 480p - Epoch [3/10] - Training Loss: 0.0568 - Training Accuracy: 0.9819\n",
      "Validation - 480p - Epoch [3/10] - Validation Accuracy: 0.7400\n"
     ]
    },
    {
     "name": "stderr",
     "output_type": "stream",
     "text": [
      "                                                                                                                \r"
     ]
    },
    {
     "name": "stdout",
     "output_type": "stream",
     "text": [
      "Training - 480p - Epoch [4/10] - Training Loss: 0.0666 - Training Accuracy: 0.9744\n",
      "Validation - 480p - Epoch [4/10] - Validation Accuracy: 0.9675\n"
     ]
    },
    {
     "name": "stderr",
     "output_type": "stream",
     "text": [
      "                                                                                                                \r"
     ]
    },
    {
     "name": "stdout",
     "output_type": "stream",
     "text": [
      "Training - 480p - Epoch [5/10] - Training Loss: 0.0262 - Training Accuracy: 0.9900\n",
      "Validation - 480p - Epoch [5/10] - Validation Accuracy: 0.9675\n"
     ]
    },
    {
     "name": "stderr",
     "output_type": "stream",
     "text": [
      "                                                                                                                 \r"
     ]
    },
    {
     "name": "stdout",
     "output_type": "stream",
     "text": [
      "Training - 480p - Epoch [6/10] - Training Loss: 0.0300 - Training Accuracy: 0.9900\n",
      "Validation - 480p - Epoch [6/10] - Validation Accuracy: 0.9400\n"
     ]
    },
    {
     "name": "stderr",
     "output_type": "stream",
     "text": [
      "                                                                                                                 \r"
     ]
    },
    {
     "name": "stdout",
     "output_type": "stream",
     "text": [
      "Training - 480p - Epoch [7/10] - Training Loss: 0.0215 - Training Accuracy: 0.9912\n",
      "Validation - 480p - Epoch [7/10] - Validation Accuracy: 0.9600\n"
     ]
    },
    {
     "name": "stderr",
     "output_type": "stream",
     "text": [
      "                                                                                                                 \r"
     ]
    },
    {
     "name": "stdout",
     "output_type": "stream",
     "text": [
      "Training - 480p - Epoch [8/10] - Training Loss: 0.0168 - Training Accuracy: 0.9956\n",
      "Validation - 480p - Epoch [8/10] - Validation Accuracy: 0.9675\n"
     ]
    },
    {
     "name": "stderr",
     "output_type": "stream",
     "text": [
      "                                                                                                                 \r"
     ]
    },
    {
     "name": "stdout",
     "output_type": "stream",
     "text": [
      "Training - 480p - Epoch [9/10] - Training Loss: 0.0269 - Training Accuracy: 0.9900\n",
      "Validation - 480p - Epoch [9/10] - Validation Accuracy: 0.9450\n"
     ]
    },
    {
     "name": "stderr",
     "output_type": "stream",
     "text": [
      "                                                                                                                  \r"
     ]
    },
    {
     "name": "stdout",
     "output_type": "stream",
     "text": [
      "Training - 480p - Epoch [10/10] - Training Loss: 0.0749 - Training Accuracy: 0.9806\n",
      "Validation - 480p - Epoch [10/10] - Validation Accuracy: 0.9575\n",
      "Testing - vgg11_bn Train Res: 480p, Test Res: 2160p - size: 600\n",
      "Testing - vgg11_bn Train Res: 480p, Test Res: 1080p - size: 600\n",
      "Testing - vgg11_bn Train Res: 480p, Test Res: 720p - size: 600\n",
      "Testing - vgg11_bn Train Res: 480p, Test Res: 480p - size: 600\n",
      "Testing - vgg11_bn Train Res: 480p, Test Res: 360p - size: 600\n"
     ]
    },
    {
     "name": "stderr",
     "output_type": "stream",
     "text": [
      "                                                                                                               \r"
     ]
    },
    {
     "name": "stdout",
     "output_type": "stream",
     "text": [
      "Training - 360p - Epoch [1/10] - Training Loss: 0.1823 - Training Accuracy: 0.9231\n",
      "Validation - 360p - Epoch [1/10] - Validation Accuracy: 0.9700\n"
     ]
    },
    {
     "name": "stderr",
     "output_type": "stream",
     "text": [
      "                                                                                                                \r"
     ]
    },
    {
     "name": "stdout",
     "output_type": "stream",
     "text": [
      "Training - 360p - Epoch [2/10] - Training Loss: 0.0574 - Training Accuracy: 0.9800\n",
      "Validation - 360p - Epoch [2/10] - Validation Accuracy: 0.9650\n"
     ]
    },
    {
     "name": "stderr",
     "output_type": "stream",
     "text": [
      "                                                                                                                \r"
     ]
    },
    {
     "name": "stdout",
     "output_type": "stream",
     "text": [
      "Training - 360p - Epoch [3/10] - Training Loss: 0.0343 - Training Accuracy: 0.9869\n",
      "Validation - 360p - Epoch [3/10] - Validation Accuracy: 0.9675\n"
     ]
    },
    {
     "name": "stderr",
     "output_type": "stream",
     "text": [
      "                                                                                                                \r"
     ]
    },
    {
     "name": "stdout",
     "output_type": "stream",
     "text": [
      "Training - 360p - Epoch [4/10] - Training Loss: 0.0468 - Training Accuracy: 0.9850\n",
      "Validation - 360p - Epoch [4/10] - Validation Accuracy: 0.9575\n"
     ]
    },
    {
     "name": "stderr",
     "output_type": "stream",
     "text": [
      "                                                                                                                \r"
     ]
    },
    {
     "name": "stdout",
     "output_type": "stream",
     "text": [
      "Training - 360p - Epoch [5/10] - Training Loss: 0.0330 - Training Accuracy: 0.9900\n",
      "Validation - 360p - Epoch [5/10] - Validation Accuracy: 0.9650\n"
     ]
    },
    {
     "name": "stderr",
     "output_type": "stream",
     "text": [
      "                                                                                                                \r"
     ]
    },
    {
     "name": "stdout",
     "output_type": "stream",
     "text": [
      "Training - 360p - Epoch [6/10] - Training Loss: 0.0421 - Training Accuracy: 0.9881\n",
      "Validation - 360p - Epoch [6/10] - Validation Accuracy: 0.9750\n"
     ]
    },
    {
     "name": "stderr",
     "output_type": "stream",
     "text": [
      "                                                                                                                 \r"
     ]
    },
    {
     "name": "stdout",
     "output_type": "stream",
     "text": [
      "Training - 360p - Epoch [7/10] - Training Loss: 0.0296 - Training Accuracy: 0.9900\n",
      "Validation - 360p - Epoch [7/10] - Validation Accuracy: 0.9725\n"
     ]
    },
    {
     "name": "stderr",
     "output_type": "stream",
     "text": [
      "                                                                                                                 \r"
     ]
    },
    {
     "name": "stdout",
     "output_type": "stream",
     "text": [
      "Training - 360p - Epoch [8/10] - Training Loss: 0.0186 - Training Accuracy: 0.9925\n",
      "Validation - 360p - Epoch [8/10] - Validation Accuracy: 0.9350\n"
     ]
    },
    {
     "name": "stderr",
     "output_type": "stream",
     "text": [
      "                                                                                                                 \r"
     ]
    },
    {
     "name": "stdout",
     "output_type": "stream",
     "text": [
      "Training - 360p - Epoch [9/10] - Training Loss: 0.0226 - Training Accuracy: 0.9912\n",
      "Validation - 360p - Epoch [9/10] - Validation Accuracy: 0.9100\n"
     ]
    },
    {
     "name": "stderr",
     "output_type": "stream",
     "text": [
      "                                                                                                                  \r"
     ]
    },
    {
     "name": "stdout",
     "output_type": "stream",
     "text": [
      "Training - 360p - Epoch [10/10] - Training Loss: 0.0339 - Training Accuracy: 0.9906\n",
      "Validation - 360p - Epoch [10/10] - Validation Accuracy: 0.9525\n",
      "Testing - vgg11_bn Train Res: 360p, Test Res: 2160p - size: 600\n",
      "Testing - vgg11_bn Train Res: 360p, Test Res: 1080p - size: 600\n",
      "Testing - vgg11_bn Train Res: 360p, Test Res: 720p - size: 600\n",
      "Testing - vgg11_bn Train Res: 360p, Test Res: 480p - size: 600\n",
      "Testing - vgg11_bn Train Res: 360p, Test Res: 360p - size: 600\n"
     ]
    },
    {
     "name": "stderr",
     "output_type": "stream",
     "text": [
      "                                                                                                                 \r"
     ]
    },
    {
     "name": "stdout",
     "output_type": "stream",
     "text": [
      "Training - 2160p - Epoch [1/10] - Training Loss: 0.2516 - Training Accuracy: 0.9056\n",
      "Validation - 2160p - Epoch [1/10] - Validation Accuracy: 0.7450\n"
     ]
    },
    {
     "name": "stderr",
     "output_type": "stream",
     "text": [
      "                                                                                                                  \r"
     ]
    },
    {
     "name": "stdout",
     "output_type": "stream",
     "text": [
      "Training - 2160p - Epoch [2/10] - Training Loss: 0.0775 - Training Accuracy: 0.9712\n",
      "Validation - 2160p - Epoch [2/10] - Validation Accuracy: 0.8500\n"
     ]
    },
    {
     "name": "stderr",
     "output_type": "stream",
     "text": [
      "                                                                                                                  \r"
     ]
    },
    {
     "name": "stdout",
     "output_type": "stream",
     "text": [
      "Training - 2160p - Epoch [3/10] - Training Loss: 0.0674 - Training Accuracy: 0.9775\n",
      "Validation - 2160p - Epoch [3/10] - Validation Accuracy: 0.9750\n"
     ]
    },
    {
     "name": "stderr",
     "output_type": "stream",
     "text": [
      "                                                                                                                  \r"
     ]
    },
    {
     "name": "stdout",
     "output_type": "stream",
     "text": [
      "Training - 2160p - Epoch [4/10] - Training Loss: 0.0377 - Training Accuracy: 0.9850\n",
      "Validation - 2160p - Epoch [4/10] - Validation Accuracy: 0.9475\n"
     ]
    },
    {
     "name": "stderr",
     "output_type": "stream",
     "text": [
      "                                                                                                                  \r"
     ]
    },
    {
     "name": "stdout",
     "output_type": "stream",
     "text": [
      "Training - 2160p - Epoch [5/10] - Training Loss: 0.0407 - Training Accuracy: 0.9856\n",
      "Validation - 2160p - Epoch [5/10] - Validation Accuracy: 0.9750\n"
     ]
    },
    {
     "name": "stderr",
     "output_type": "stream",
     "text": [
      "                                                                                                                  \r"
     ]
    },
    {
     "name": "stdout",
     "output_type": "stream",
     "text": [
      "Training - 2160p - Epoch [6/10] - Training Loss: 0.0232 - Training Accuracy: 0.9919\n",
      "Validation - 2160p - Epoch [6/10] - Validation Accuracy: 0.9425\n"
     ]
    },
    {
     "name": "stderr",
     "output_type": "stream",
     "text": [
      "                                                                                                                  \r"
     ]
    },
    {
     "name": "stdout",
     "output_type": "stream",
     "text": [
      "Training - 2160p - Epoch [7/10] - Training Loss: 0.0355 - Training Accuracy: 0.9906\n",
      "Validation - 2160p - Epoch [7/10] - Validation Accuracy: 0.9125\n"
     ]
    },
    {
     "name": "stderr",
     "output_type": "stream",
     "text": [
      "                                                                                                                  \r"
     ]
    },
    {
     "name": "stdout",
     "output_type": "stream",
     "text": [
      "Training - 2160p - Epoch [8/10] - Training Loss: 0.0239 - Training Accuracy: 0.9938\n",
      "Validation - 2160p - Epoch [8/10] - Validation Accuracy: 0.9700\n"
     ]
    },
    {
     "name": "stderr",
     "output_type": "stream",
     "text": [
      "                                                                                                                   \r"
     ]
    },
    {
     "name": "stdout",
     "output_type": "stream",
     "text": [
      "Training - 2160p - Epoch [9/10] - Training Loss: 0.0279 - Training Accuracy: 0.9888\n",
      "Validation - 2160p - Epoch [9/10] - Validation Accuracy: 0.9600\n"
     ]
    },
    {
     "name": "stderr",
     "output_type": "stream",
     "text": [
      "                                                                                                                   \r"
     ]
    },
    {
     "name": "stdout",
     "output_type": "stream",
     "text": [
      "Training - 2160p - Epoch [10/10] - Training Loss: 0.0368 - Training Accuracy: 0.9838\n",
      "Validation - 2160p - Epoch [10/10] - Validation Accuracy: 0.9575\n",
      "Testing - ResNet_bn Train Res: 2160p, Test Res: 2160p - size: 600\n",
      "Testing - ResNet_bn Train Res: 2160p, Test Res: 1080p - size: 600\n",
      "Testing - ResNet_bn Train Res: 2160p, Test Res: 720p - size: 600\n",
      "Testing - ResNet_bn Train Res: 2160p, Test Res: 480p - size: 600\n",
      "Testing - ResNet_bn Train Res: 2160p, Test Res: 360p - size: 600\n"
     ]
    },
    {
     "name": "stderr",
     "output_type": "stream",
     "text": [
      "                                                                                                                 \r"
     ]
    },
    {
     "name": "stdout",
     "output_type": "stream",
     "text": [
      "Training - 1080p - Epoch [1/10] - Training Loss: 0.1108 - Training Accuracy: 0.9650\n",
      "Validation - 1080p - Epoch [1/10] - Validation Accuracy: 0.8525\n"
     ]
    },
    {
     "name": "stderr",
     "output_type": "stream",
     "text": [
      "                                                                                                                  \r"
     ]
    },
    {
     "name": "stdout",
     "output_type": "stream",
     "text": [
      "Training - 1080p - Epoch [2/10] - Training Loss: 0.0406 - Training Accuracy: 0.9856\n",
      "Validation - 1080p - Epoch [2/10] - Validation Accuracy: 0.9200\n"
     ]
    },
    {
     "name": "stderr",
     "output_type": "stream",
     "text": [
      "                                                                                                                   \r"
     ]
    },
    {
     "name": "stdout",
     "output_type": "stream",
     "text": [
      "Training - 1080p - Epoch [3/10] - Training Loss: 0.0307 - Training Accuracy: 0.9888\n",
      "Validation - 1080p - Epoch [3/10] - Validation Accuracy: 0.9575\n"
     ]
    },
    {
     "name": "stderr",
     "output_type": "stream",
     "text": [
      "                                                                                                                  \r"
     ]
    },
    {
     "name": "stdout",
     "output_type": "stream",
     "text": [
      "Training - 1080p - Epoch [4/10] - Training Loss: 0.0531 - Training Accuracy: 0.9806\n",
      "Validation - 1080p - Epoch [4/10] - Validation Accuracy: 0.8975\n"
     ]
    },
    {
     "name": "stderr",
     "output_type": "stream",
     "text": [
      "                                                                                                                  \r"
     ]
    },
    {
     "name": "stdout",
     "output_type": "stream",
     "text": [
      "Training - 1080p - Epoch [5/10] - Training Loss: 0.0256 - Training Accuracy: 0.9894\n",
      "Validation - 1080p - Epoch [5/10] - Validation Accuracy: 0.9200\n"
     ]
    },
    {
     "name": "stderr",
     "output_type": "stream",
     "text": [
      "                                                                                                                  \r"
     ]
    },
    {
     "name": "stdout",
     "output_type": "stream",
     "text": [
      "Training - 1080p - Epoch [6/10] - Training Loss: 0.0107 - Training Accuracy: 0.9969\n",
      "Validation - 1080p - Epoch [6/10] - Validation Accuracy: 0.9400\n"
     ]
    },
    {
     "name": "stderr",
     "output_type": "stream",
     "text": [
      "                                                                                                                  \r"
     ]
    },
    {
     "name": "stdout",
     "output_type": "stream",
     "text": [
      "Training - 1080p - Epoch [7/10] - Training Loss: 0.0276 - Training Accuracy: 0.9919\n",
      "Validation - 1080p - Epoch [7/10] - Validation Accuracy: 0.9675\n"
     ]
    },
    {
     "name": "stderr",
     "output_type": "stream",
     "text": [
      "                                                                                                                  \r"
     ]
    },
    {
     "name": "stdout",
     "output_type": "stream",
     "text": [
      "Training - 1080p - Epoch [8/10] - Training Loss: 0.0283 - Training Accuracy: 0.9931\n",
      "Validation - 1080p - Epoch [8/10] - Validation Accuracy: 0.9575\n"
     ]
    },
    {
     "name": "stderr",
     "output_type": "stream",
     "text": [
      "                                                                                                                   \r"
     ]
    },
    {
     "name": "stdout",
     "output_type": "stream",
     "text": [
      "Training - 1080p - Epoch [9/10] - Training Loss: 0.0164 - Training Accuracy: 0.9944\n",
      "Validation - 1080p - Epoch [9/10] - Validation Accuracy: 0.9700\n"
     ]
    },
    {
     "name": "stderr",
     "output_type": "stream",
     "text": [
      "                                                                                                                    \r"
     ]
    },
    {
     "name": "stdout",
     "output_type": "stream",
     "text": [
      "Training - 1080p - Epoch [10/10] - Training Loss: 0.0165 - Training Accuracy: 0.9956\n",
      "Validation - 1080p - Epoch [10/10] - Validation Accuracy: 0.9675\n",
      "Testing - ResNet_bn Train Res: 1080p, Test Res: 2160p - size: 600\n",
      "Testing - ResNet_bn Train Res: 1080p, Test Res: 1080p - size: 600\n",
      "Testing - ResNet_bn Train Res: 1080p, Test Res: 720p - size: 600\n",
      "Testing - ResNet_bn Train Res: 1080p, Test Res: 480p - size: 600\n",
      "Testing - ResNet_bn Train Res: 1080p, Test Res: 360p - size: 600\n"
     ]
    },
    {
     "name": "stderr",
     "output_type": "stream",
     "text": [
      "                                                                                                                \r"
     ]
    },
    {
     "name": "stdout",
     "output_type": "stream",
     "text": [
      "Training - 720p - Epoch [1/10] - Training Loss: 0.1122 - Training Accuracy: 0.9556\n",
      "Validation - 720p - Epoch [1/10] - Validation Accuracy: 0.9200\n"
     ]
    },
    {
     "name": "stderr",
     "output_type": "stream",
     "text": [
      "                                                                                                                \r"
     ]
    },
    {
     "name": "stdout",
     "output_type": "stream",
     "text": [
      "Training - 720p - Epoch [2/10] - Training Loss: 0.0450 - Training Accuracy: 0.9825\n",
      "Validation - 720p - Epoch [2/10] - Validation Accuracy: 0.9400\n"
     ]
    },
    {
     "name": "stderr",
     "output_type": "stream",
     "text": [
      "                                                                                                                 \r"
     ]
    },
    {
     "name": "stdout",
     "output_type": "stream",
     "text": [
      "Training - 720p - Epoch [3/10] - Training Loss: 0.0232 - Training Accuracy: 0.9919\n",
      "Validation - 720p - Epoch [3/10] - Validation Accuracy: 0.9675\n"
     ]
    },
    {
     "name": "stderr",
     "output_type": "stream",
     "text": [
      "                                                                                                                 \r"
     ]
    },
    {
     "name": "stdout",
     "output_type": "stream",
     "text": [
      "Training - 720p - Epoch [4/10] - Training Loss: 0.0310 - Training Accuracy: 0.9881\n",
      "Validation - 720p - Epoch [4/10] - Validation Accuracy: 0.9600\n"
     ]
    },
    {
     "name": "stderr",
     "output_type": "stream",
     "text": [
      "                                                                                                                 \r"
     ]
    },
    {
     "name": "stdout",
     "output_type": "stream",
     "text": [
      "Training - 720p - Epoch [5/10] - Training Loss: 0.0311 - Training Accuracy: 0.9894\n",
      "Validation - 720p - Epoch [5/10] - Validation Accuracy: 0.9425\n"
     ]
    },
    {
     "name": "stderr",
     "output_type": "stream",
     "text": [
      "                                                                                                                 \r"
     ]
    },
    {
     "name": "stdout",
     "output_type": "stream",
     "text": [
      "Training - 720p - Epoch [6/10] - Training Loss: 0.0168 - Training Accuracy: 0.9944\n",
      "Validation - 720p - Epoch [6/10] - Validation Accuracy: 0.9725\n"
     ]
    },
    {
     "name": "stderr",
     "output_type": "stream",
     "text": [
      "                                                                                                                  \r"
     ]
    },
    {
     "name": "stdout",
     "output_type": "stream",
     "text": [
      "Training - 720p - Epoch [7/10] - Training Loss: 0.0211 - Training Accuracy: 0.9944\n",
      "Validation - 720p - Epoch [7/10] - Validation Accuracy: 0.9750\n"
     ]
    },
    {
     "name": "stderr",
     "output_type": "stream",
     "text": [
      "                                                                                                                 \r"
     ]
    },
    {
     "name": "stdout",
     "output_type": "stream",
     "text": [
      "Training - 720p - Epoch [8/10] - Training Loss: 0.0123 - Training Accuracy: 0.9950\n",
      "Validation - 720p - Epoch [8/10] - Validation Accuracy: 0.9775\n"
     ]
    },
    {
     "name": "stderr",
     "output_type": "stream",
     "text": [
      "                                                                                                                  \r"
     ]
    },
    {
     "name": "stdout",
     "output_type": "stream",
     "text": [
      "Training - 720p - Epoch [9/10] - Training Loss: 0.0041 - Training Accuracy: 0.9975\n",
      "Validation - 720p - Epoch [9/10] - Validation Accuracy: 0.9750\n"
     ]
    },
    {
     "name": "stderr",
     "output_type": "stream",
     "text": [
      "                                                                                                                   \r"
     ]
    },
    {
     "name": "stdout",
     "output_type": "stream",
     "text": [
      "Training - 720p - Epoch [10/10] - Training Loss: 0.0067 - Training Accuracy: 0.9981\n",
      "Validation - 720p - Epoch [10/10] - Validation Accuracy: 0.9275\n",
      "Testing - ResNet_bn Train Res: 720p, Test Res: 2160p - size: 600\n",
      "Testing - ResNet_bn Train Res: 720p, Test Res: 1080p - size: 600\n",
      "Testing - ResNet_bn Train Res: 720p, Test Res: 720p - size: 600\n",
      "Testing - ResNet_bn Train Res: 720p, Test Res: 480p - size: 600\n",
      "Testing - ResNet_bn Train Res: 720p, Test Res: 360p - size: 600\n"
     ]
    },
    {
     "name": "stderr",
     "output_type": "stream",
     "text": [
      "                                                                                                                 \r"
     ]
    },
    {
     "name": "stdout",
     "output_type": "stream",
     "text": [
      "Training - 480p - Epoch [1/10] - Training Loss: 0.1081 - Training Accuracy: 0.9550\n",
      "Validation - 480p - Epoch [1/10] - Validation Accuracy: 0.9550\n"
     ]
    },
    {
     "name": "stderr",
     "output_type": "stream",
     "text": [
      "                                                                                                                 \r"
     ]
    },
    {
     "name": "stdout",
     "output_type": "stream",
     "text": [
      "Training - 480p - Epoch [2/10] - Training Loss: 0.0665 - Training Accuracy: 0.9744\n",
      "Validation - 480p - Epoch [2/10] - Validation Accuracy: 0.9625\n"
     ]
    },
    {
     "name": "stderr",
     "output_type": "stream",
     "text": [
      "                                                                                                                 \r"
     ]
    },
    {
     "name": "stdout",
     "output_type": "stream",
     "text": [
      "Training - 480p - Epoch [3/10] - Training Loss: 0.0329 - Training Accuracy: 0.9875\n",
      "Validation - 480p - Epoch [3/10] - Validation Accuracy: 0.9750\n"
     ]
    },
    {
     "name": "stderr",
     "output_type": "stream",
     "text": [
      "                                                                                                                  \r"
     ]
    },
    {
     "name": "stdout",
     "output_type": "stream",
     "text": [
      "Training - 480p - Epoch [4/10] - Training Loss: 0.0201 - Training Accuracy: 0.9956\n",
      "Validation - 480p - Epoch [4/10] - Validation Accuracy: 0.9500\n"
     ]
    },
    {
     "name": "stderr",
     "output_type": "stream",
     "text": [
      "                                                                                                                  \r"
     ]
    },
    {
     "name": "stdout",
     "output_type": "stream",
     "text": [
      "Training - 480p - Epoch [5/10] - Training Loss: 0.0053 - Training Accuracy: 0.9988\n",
      "Validation - 480p - Epoch [5/10] - Validation Accuracy: 0.9800\n"
     ]
    },
    {
     "name": "stderr",
     "output_type": "stream",
     "text": [
      "                                                                                                                  \r"
     ]
    },
    {
     "name": "stdout",
     "output_type": "stream",
     "text": [
      "Training - 480p - Epoch [6/10] - Training Loss: 0.0097 - Training Accuracy: 0.9975\n",
      "Validation - 480p - Epoch [6/10] - Validation Accuracy: 0.9675\n"
     ]
    },
    {
     "name": "stderr",
     "output_type": "stream",
     "text": [
      "                                                                                                                  \r"
     ]
    },
    {
     "name": "stdout",
     "output_type": "stream",
     "text": [
      "Training - 480p - Epoch [7/10] - Training Loss: 0.0063 - Training Accuracy: 0.9975\n",
      "Validation - 480p - Epoch [7/10] - Validation Accuracy: 0.9600\n"
     ]
    },
    {
     "name": "stderr",
     "output_type": "stream",
     "text": [
      "                                                                                                                 \r"
     ]
    },
    {
     "name": "stdout",
     "output_type": "stream",
     "text": [
      "Training - 480p - Epoch [8/10] - Training Loss: 0.0265 - Training Accuracy: 0.9931\n",
      "Validation - 480p - Epoch [8/10] - Validation Accuracy: 0.9550\n"
     ]
    },
    {
     "name": "stderr",
     "output_type": "stream",
     "text": [
      "                                                                                                                 \r"
     ]
    },
    {
     "name": "stdout",
     "output_type": "stream",
     "text": [
      "Training - 480p - Epoch [9/10] - Training Loss: 0.0497 - Training Accuracy: 0.9838\n",
      "Validation - 480p - Epoch [9/10] - Validation Accuracy: 0.9650\n"
     ]
    },
    {
     "name": "stderr",
     "output_type": "stream",
     "text": [
      "                                                                                                                  \r"
     ]
    },
    {
     "name": "stdout",
     "output_type": "stream",
     "text": [
      "Training - 480p - Epoch [10/10] - Training Loss: 0.0204 - Training Accuracy: 0.9925\n",
      "Validation - 480p - Epoch [10/10] - Validation Accuracy: 0.9700\n",
      "Testing - ResNet_bn Train Res: 480p, Test Res: 2160p - size: 600\n",
      "Testing - ResNet_bn Train Res: 480p, Test Res: 1080p - size: 600\n",
      "Testing - ResNet_bn Train Res: 480p, Test Res: 720p - size: 600\n",
      "Testing - ResNet_bn Train Res: 480p, Test Res: 480p - size: 600\n",
      "Testing - ResNet_bn Train Res: 480p, Test Res: 360p - size: 600\n"
     ]
    },
    {
     "name": "stderr",
     "output_type": "stream",
     "text": [
      "                                                                                                                \r"
     ]
    },
    {
     "name": "stdout",
     "output_type": "stream",
     "text": [
      "Training - 360p - Epoch [1/10] - Training Loss: 0.1246 - Training Accuracy: 0.9500\n",
      "Validation - 360p - Epoch [1/10] - Validation Accuracy: 0.9600\n"
     ]
    },
    {
     "name": "stderr",
     "output_type": "stream",
     "text": [
      "                                                                                                                \r"
     ]
    },
    {
     "name": "stdout",
     "output_type": "stream",
     "text": [
      "Training - 360p - Epoch [2/10] - Training Loss: 0.0516 - Training Accuracy: 0.9800\n",
      "Validation - 360p - Epoch [2/10] - Validation Accuracy: 0.9500\n"
     ]
    },
    {
     "name": "stderr",
     "output_type": "stream",
     "text": [
      "                                                                                                                 \r"
     ]
    },
    {
     "name": "stdout",
     "output_type": "stream",
     "text": [
      "Training - 360p - Epoch [3/10] - Training Loss: 0.0385 - Training Accuracy: 0.9825\n",
      "Validation - 360p - Epoch [3/10] - Validation Accuracy: 0.9575\n"
     ]
    },
    {
     "name": "stderr",
     "output_type": "stream",
     "text": [
      "                                                                                                                 \r"
     ]
    },
    {
     "name": "stdout",
     "output_type": "stream",
     "text": [
      "Training - 360p - Epoch [4/10] - Training Loss: 0.0442 - Training Accuracy: 0.9812\n",
      "Validation - 360p - Epoch [4/10] - Validation Accuracy: 0.9625\n"
     ]
    },
    {
     "name": "stderr",
     "output_type": "stream",
     "text": [
      "                                                                                                                 \r"
     ]
    },
    {
     "name": "stdout",
     "output_type": "stream",
     "text": [
      "Training - 360p - Epoch [5/10] - Training Loss: 0.0359 - Training Accuracy: 0.9869\n",
      "Validation - 360p - Epoch [5/10] - Validation Accuracy: 0.9500\n"
     ]
    },
    {
     "name": "stderr",
     "output_type": "stream",
     "text": [
      "                                                                                                                 \r"
     ]
    },
    {
     "name": "stdout",
     "output_type": "stream",
     "text": [
      "Training - 360p - Epoch [6/10] - Training Loss: 0.0200 - Training Accuracy: 0.9950\n",
      "Validation - 360p - Epoch [6/10] - Validation Accuracy: 0.9800\n"
     ]
    },
    {
     "name": "stderr",
     "output_type": "stream",
     "text": [
      "                                                                                                                 \r"
     ]
    },
    {
     "name": "stdout",
     "output_type": "stream",
     "text": [
      "Training - 360p - Epoch [7/10] - Training Loss: 0.0130 - Training Accuracy: 0.9956\n",
      "Validation - 360p - Epoch [7/10] - Validation Accuracy: 0.9775\n"
     ]
    },
    {
     "name": "stderr",
     "output_type": "stream",
     "text": [
      "                                                                                                                  \r"
     ]
    },
    {
     "name": "stdout",
     "output_type": "stream",
     "text": [
      "Training - 360p - Epoch [8/10] - Training Loss: 0.0076 - Training Accuracy: 0.9975\n",
      "Validation - 360p - Epoch [8/10] - Validation Accuracy: 0.9700\n"
     ]
    },
    {
     "name": "stderr",
     "output_type": "stream",
     "text": [
      "                                                                                                                  \r"
     ]
    },
    {
     "name": "stdout",
     "output_type": "stream",
     "text": [
      "Training - 360p - Epoch [9/10] - Training Loss: 0.0201 - Training Accuracy: 0.9938\n",
      "Validation - 360p - Epoch [9/10] - Validation Accuracy: 0.9525\n"
     ]
    },
    {
     "name": "stderr",
     "output_type": "stream",
     "text": [
      "                                                                                                                  \r"
     ]
    },
    {
     "name": "stdout",
     "output_type": "stream",
     "text": [
      "Training - 360p - Epoch [10/10] - Training Loss: 0.0496 - Training Accuracy: 0.9838\n",
      "Validation - 360p - Epoch [10/10] - Validation Accuracy: 0.9600\n",
      "Testing - ResNet_bn Train Res: 360p, Test Res: 2160p - size: 600\n",
      "Testing - ResNet_bn Train Res: 360p, Test Res: 1080p - size: 600\n",
      "Testing - ResNet_bn Train Res: 360p, Test Res: 720p - size: 600\n",
      "Testing - ResNet_bn Train Res: 360p, Test Res: 480p - size: 600\n",
      "Testing - ResNet_bn Train Res: 360p, Test Res: 360p - size: 600\n"
     ]
    },
    {
     "name": "stderr",
     "output_type": "stream",
     "text": [
      "                                                                                                                    \r"
     ]
    },
    {
     "name": "stdout",
     "output_type": "stream",
     "text": [
      "Training - 2160p - Epoch [1/10] - Training Loss: 0.2384 - Training Accuracy: 0.9056\n",
      "Validation - 2160p - Epoch [1/10] - Validation Accuracy: 0.6375\n"
     ]
    },
    {
     "name": "stderr",
     "output_type": "stream",
     "text": [
      "                                                                                                                    \r"
     ]
    },
    {
     "name": "stdout",
     "output_type": "stream",
     "text": [
      "Training - 2160p - Epoch [2/10] - Training Loss: 0.0693 - Training Accuracy: 0.9756\n",
      "Validation - 2160p - Epoch [2/10] - Validation Accuracy: 0.9775\n"
     ]
    },
    {
     "name": "stderr",
     "output_type": "stream",
     "text": [
      "                                                                                                                     \r"
     ]
    },
    {
     "name": "stdout",
     "output_type": "stream",
     "text": [
      "Training - 2160p - Epoch [3/10] - Training Loss: 0.0530 - Training Accuracy: 0.9800\n",
      "Validation - 2160p - Epoch [3/10] - Validation Accuracy: 0.8650\n"
     ]
    },
    {
     "name": "stderr",
     "output_type": "stream",
     "text": [
      "                                                                                                                      \r"
     ]
    },
    {
     "name": "stdout",
     "output_type": "stream",
     "text": [
      "Training - 2160p - Epoch [4/10] - Training Loss: 0.0209 - Training Accuracy: 0.9938\n",
      "Validation - 2160p - Epoch [4/10] - Validation Accuracy: 0.8075\n"
     ]
    },
    {
     "name": "stderr",
     "output_type": "stream",
     "text": [
      "                                                                                                                     \r"
     ]
    },
    {
     "name": "stdout",
     "output_type": "stream",
     "text": [
      "Training - 2160p - Epoch [5/10] - Training Loss: 0.0320 - Training Accuracy: 0.9881\n",
      "Validation - 2160p - Epoch [5/10] - Validation Accuracy: 0.9800\n"
     ]
    },
    {
     "name": "stderr",
     "output_type": "stream",
     "text": [
      "                                                                                                                      \r"
     ]
    },
    {
     "name": "stdout",
     "output_type": "stream",
     "text": [
      "Training - 2160p - Epoch [6/10] - Training Loss: 0.0173 - Training Accuracy: 0.9944\n",
      "Validation - 2160p - Epoch [6/10] - Validation Accuracy: 0.9075\n"
     ]
    },
    {
     "name": "stderr",
     "output_type": "stream",
     "text": [
      "                                                                                                                     \r"
     ]
    },
    {
     "name": "stdout",
     "output_type": "stream",
     "text": [
      "Training - 2160p - Epoch [7/10] - Training Loss: 0.0195 - Training Accuracy: 0.9938\n",
      "Validation - 2160p - Epoch [7/10] - Validation Accuracy: 0.9500\n"
     ]
    },
    {
     "name": "stderr",
     "output_type": "stream",
     "text": [
      "                                                                                                                      \r"
     ]
    },
    {
     "name": "stdout",
     "output_type": "stream",
     "text": [
      "Training - 2160p - Epoch [8/10] - Training Loss: 0.0103 - Training Accuracy: 0.9962\n",
      "Validation - 2160p - Epoch [8/10] - Validation Accuracy: 0.9800\n"
     ]
    },
    {
     "name": "stderr",
     "output_type": "stream",
     "text": [
      "                                                                                                                      \r"
     ]
    },
    {
     "name": "stdout",
     "output_type": "stream",
     "text": [
      "Training - 2160p - Epoch [9/10] - Training Loss: 0.0105 - Training Accuracy: 0.9981\n",
      "Validation - 2160p - Epoch [9/10] - Validation Accuracy: 0.9225\n"
     ]
    },
    {
     "name": "stderr",
     "output_type": "stream",
     "text": [
      "                                                                                                                      \r"
     ]
    },
    {
     "name": "stdout",
     "output_type": "stream",
     "text": [
      "Training - 2160p - Epoch [10/10] - Training Loss: 0.0125 - Training Accuracy: 0.9969\n",
      "Validation - 2160p - Epoch [10/10] - Validation Accuracy: 0.9775\n",
      "Testing - Inception_bn Train Res: 2160p, Test Res: 2160p - size: 600\n",
      "Testing - Inception_bn Train Res: 2160p, Test Res: 1080p - size: 600\n",
      "Testing - Inception_bn Train Res: 2160p, Test Res: 720p - size: 600\n",
      "Testing - Inception_bn Train Res: 2160p, Test Res: 480p - size: 600\n",
      "Testing - Inception_bn Train Res: 2160p, Test Res: 360p - size: 600\n"
     ]
    },
    {
     "name": "stderr",
     "output_type": "stream",
     "text": [
      "                                                                                                                     \r"
     ]
    },
    {
     "name": "stdout",
     "output_type": "stream",
     "text": [
      "Training - 1080p - Epoch [1/10] - Training Loss: 0.1017 - Training Accuracy: 0.9544\n",
      "Validation - 1080p - Epoch [1/10] - Validation Accuracy: 0.8850\n"
     ]
    },
    {
     "name": "stderr",
     "output_type": "stream",
     "text": [
      "                                                                                                                     \r"
     ]
    },
    {
     "name": "stdout",
     "output_type": "stream",
     "text": [
      "Training - 1080p - Epoch [2/10] - Training Loss: 0.0346 - Training Accuracy: 0.9888\n",
      "Validation - 1080p - Epoch [2/10] - Validation Accuracy: 0.9650\n"
     ]
    },
    {
     "name": "stderr",
     "output_type": "stream",
     "text": [
      "                                                                                                                     \r"
     ]
    },
    {
     "name": "stdout",
     "output_type": "stream",
     "text": [
      "Training - 1080p - Epoch [3/10] - Training Loss: 0.0285 - Training Accuracy: 0.9900\n",
      "Validation - 1080p - Epoch [3/10] - Validation Accuracy: 0.9575\n"
     ]
    },
    {
     "name": "stderr",
     "output_type": "stream",
     "text": [
      "                                                                                                                     \r"
     ]
    },
    {
     "name": "stdout",
     "output_type": "stream",
     "text": [
      "Training - 1080p - Epoch [4/10] - Training Loss: 0.0255 - Training Accuracy: 0.9931\n",
      "Validation - 1080p - Epoch [4/10] - Validation Accuracy: 0.9750\n"
     ]
    },
    {
     "name": "stderr",
     "output_type": "stream",
     "text": [
      "                                                                                                                     \r"
     ]
    },
    {
     "name": "stdout",
     "output_type": "stream",
     "text": [
      "Training - 1080p - Epoch [5/10] - Training Loss: 0.0385 - Training Accuracy: 0.9862\n",
      "Validation - 1080p - Epoch [5/10] - Validation Accuracy: 0.9450\n"
     ]
    },
    {
     "name": "stderr",
     "output_type": "stream",
     "text": [
      "                                                                                                                     \r"
     ]
    },
    {
     "name": "stdout",
     "output_type": "stream",
     "text": [
      "Training - 1080p - Epoch [6/10] - Training Loss: 0.0265 - Training Accuracy: 0.9931\n",
      "Validation - 1080p - Epoch [6/10] - Validation Accuracy: 0.9425\n"
     ]
    },
    {
     "name": "stderr",
     "output_type": "stream",
     "text": [
      "                                                                                                                     \r"
     ]
    },
    {
     "name": "stdout",
     "output_type": "stream",
     "text": [
      "Training - 1080p - Epoch [7/10] - Training Loss: 0.0205 - Training Accuracy: 0.9925\n",
      "Validation - 1080p - Epoch [7/10] - Validation Accuracy: 0.9650\n"
     ]
    },
    {
     "name": "stderr",
     "output_type": "stream",
     "text": [
      "                                                                                                                     \r"
     ]
    },
    {
     "name": "stdout",
     "output_type": "stream",
     "text": [
      "Training - 1080p - Epoch [8/10] - Training Loss: 0.0188 - Training Accuracy: 0.9938\n",
      "Validation - 1080p - Epoch [8/10] - Validation Accuracy: 0.9700\n"
     ]
    },
    {
     "name": "stderr",
     "output_type": "stream",
     "text": [
      "                                                                                                                      \r"
     ]
    },
    {
     "name": "stdout",
     "output_type": "stream",
     "text": [
      "Training - 1080p - Epoch [9/10] - Training Loss: 0.0064 - Training Accuracy: 0.9975\n",
      "Validation - 1080p - Epoch [9/10] - Validation Accuracy: 0.9725\n"
     ]
    },
    {
     "name": "stderr",
     "output_type": "stream",
     "text": [
      "                                                                                                                       \r"
     ]
    },
    {
     "name": "stdout",
     "output_type": "stream",
     "text": [
      "Training - 1080p - Epoch [10/10] - Training Loss: 0.0084 - Training Accuracy: 0.9981\n",
      "Validation - 1080p - Epoch [10/10] - Validation Accuracy: 0.9700\n",
      "Testing - Inception_bn Train Res: 1080p, Test Res: 2160p - size: 600\n",
      "Testing - Inception_bn Train Res: 1080p, Test Res: 1080p - size: 600\n",
      "Testing - Inception_bn Train Res: 1080p, Test Res: 720p - size: 600\n",
      "Testing - Inception_bn Train Res: 1080p, Test Res: 480p - size: 600\n",
      "Testing - Inception_bn Train Res: 1080p, Test Res: 360p - size: 600\n"
     ]
    },
    {
     "name": "stderr",
     "output_type": "stream",
     "text": [
      "                                                                                                                    \r"
     ]
    },
    {
     "name": "stdout",
     "output_type": "stream",
     "text": [
      "Training - 720p - Epoch [1/10] - Training Loss: 0.0926 - Training Accuracy: 0.9537\n",
      "Validation - 720p - Epoch [1/10] - Validation Accuracy: 0.9550\n"
     ]
    },
    {
     "name": "stderr",
     "output_type": "stream",
     "text": [
      "                                                                                                                    \r"
     ]
    },
    {
     "name": "stdout",
     "output_type": "stream",
     "text": [
      "Training - 720p - Epoch [2/10] - Training Loss: 0.0316 - Training Accuracy: 0.9881\n",
      "Validation - 720p - Epoch [2/10] - Validation Accuracy: 0.9700\n"
     ]
    },
    {
     "name": "stderr",
     "output_type": "stream",
     "text": [
      "                                                                                                                     \r"
     ]
    },
    {
     "name": "stdout",
     "output_type": "stream",
     "text": [
      "Training - 720p - Epoch [3/10] - Training Loss: 0.0091 - Training Accuracy: 0.9956\n",
      "Validation - 720p - Epoch [3/10] - Validation Accuracy: 0.9800\n"
     ]
    },
    {
     "name": "stderr",
     "output_type": "stream",
     "text": [
      "                                                                                                                     \r"
     ]
    },
    {
     "name": "stdout",
     "output_type": "stream",
     "text": [
      "Training - 720p - Epoch [4/10] - Training Loss: 0.0069 - Training Accuracy: 0.9975\n",
      "Validation - 720p - Epoch [4/10] - Validation Accuracy: 0.9775\n"
     ]
    },
    {
     "name": "stderr",
     "output_type": "stream",
     "text": [
      "                                                                                                                     \r"
     ]
    },
    {
     "name": "stdout",
     "output_type": "stream",
     "text": [
      "Training - 720p - Epoch [5/10] - Training Loss: 0.0050 - Training Accuracy: 0.9994\n",
      "Validation - 720p - Epoch [5/10] - Validation Accuracy: 0.9750\n"
     ]
    },
    {
     "name": "stderr",
     "output_type": "stream",
     "text": [
      "                                                                                                                     \r"
     ]
    },
    {
     "name": "stdout",
     "output_type": "stream",
     "text": [
      "Training - 720p - Epoch [6/10] - Training Loss: 0.0091 - Training Accuracy: 0.9975\n",
      "Validation - 720p - Epoch [6/10] - Validation Accuracy: 0.8175\n"
     ]
    },
    {
     "name": "stderr",
     "output_type": "stream",
     "text": [
      "                                                                                                                    \r"
     ]
    },
    {
     "name": "stdout",
     "output_type": "stream",
     "text": [
      "Training - 720p - Epoch [7/10] - Training Loss: 0.0405 - Training Accuracy: 0.9844\n",
      "Validation - 720p - Epoch [7/10] - Validation Accuracy: 0.9325\n"
     ]
    },
    {
     "name": "stderr",
     "output_type": "stream",
     "text": [
      "                                                                                                                    \r"
     ]
    },
    {
     "name": "stdout",
     "output_type": "stream",
     "text": [
      "Training - 720p - Epoch [8/10] - Training Loss: 0.0215 - Training Accuracy: 0.9919\n",
      "Validation - 720p - Epoch [8/10] - Validation Accuracy: 0.9450\n"
     ]
    },
    {
     "name": "stderr",
     "output_type": "stream",
     "text": [
      "                                                                                                                    \r"
     ]
    },
    {
     "name": "stdout",
     "output_type": "stream",
     "text": [
      "Training - 720p - Epoch [9/10] - Training Loss: 0.0270 - Training Accuracy: 0.9900\n",
      "Validation - 720p - Epoch [9/10] - Validation Accuracy: 0.9425\n"
     ]
    },
    {
     "name": "stderr",
     "output_type": "stream",
     "text": [
      "                                                                                                                     \r"
     ]
    },
    {
     "name": "stdout",
     "output_type": "stream",
     "text": [
      "Training - 720p - Epoch [10/10] - Training Loss: 0.0200 - Training Accuracy: 0.9925\n",
      "Validation - 720p - Epoch [10/10] - Validation Accuracy: 0.9750\n",
      "Testing - Inception_bn Train Res: 720p, Test Res: 2160p - size: 600\n",
      "Testing - Inception_bn Train Res: 720p, Test Res: 1080p - size: 600\n",
      "Testing - Inception_bn Train Res: 720p, Test Res: 720p - size: 600\n",
      "Testing - Inception_bn Train Res: 720p, Test Res: 480p - size: 600\n",
      "Testing - Inception_bn Train Res: 720p, Test Res: 360p - size: 600\n"
     ]
    },
    {
     "name": "stderr",
     "output_type": "stream",
     "text": [
      "                                                                                                                    \r"
     ]
    },
    {
     "name": "stdout",
     "output_type": "stream",
     "text": [
      "Training - 480p - Epoch [1/10] - Training Loss: 0.0928 - Training Accuracy: 0.9613\n",
      "Validation - 480p - Epoch [1/10] - Validation Accuracy: 0.9500\n"
     ]
    },
    {
     "name": "stderr",
     "output_type": "stream",
     "text": [
      "                                                                                                                    \r"
     ]
    },
    {
     "name": "stdout",
     "output_type": "stream",
     "text": [
      "Training - 480p - Epoch [2/10] - Training Loss: 0.0245 - Training Accuracy: 0.9925\n",
      "Validation - 480p - Epoch [2/10] - Validation Accuracy: 0.9525\n"
     ]
    },
    {
     "name": "stderr",
     "output_type": "stream",
     "text": [
      "                                                                                                                     \r"
     ]
    },
    {
     "name": "stdout",
     "output_type": "stream",
     "text": [
      "Training - 480p - Epoch [3/10] - Training Loss: 0.0169 - Training Accuracy: 0.9931\n",
      "Validation - 480p - Epoch [3/10] - Validation Accuracy: 0.9450\n"
     ]
    },
    {
     "name": "stderr",
     "output_type": "stream",
     "text": [
      "                                                                                                                    \r"
     ]
    },
    {
     "name": "stdout",
     "output_type": "stream",
     "text": [
      "Training - 480p - Epoch [4/10] - Training Loss: 0.0220 - Training Accuracy: 0.9912\n",
      "Validation - 480p - Epoch [4/10] - Validation Accuracy: 0.9500\n"
     ]
    },
    {
     "name": "stderr",
     "output_type": "stream",
     "text": [
      "                                                                                                                    \r"
     ]
    },
    {
     "name": "stdout",
     "output_type": "stream",
     "text": [
      "Training - 480p - Epoch [5/10] - Training Loss: 0.0143 - Training Accuracy: 0.9938\n",
      "Validation - 480p - Epoch [5/10] - Validation Accuracy: 0.9375\n"
     ]
    },
    {
     "name": "stderr",
     "output_type": "stream",
     "text": [
      "                                                                                                                     \r"
     ]
    },
    {
     "name": "stdout",
     "output_type": "stream",
     "text": [
      "Training - 480p - Epoch [6/10] - Training Loss: 0.0154 - Training Accuracy: 0.9931\n",
      "Validation - 480p - Epoch [6/10] - Validation Accuracy: 0.9525\n"
     ]
    },
    {
     "name": "stderr",
     "output_type": "stream",
     "text": [
      "                                                                                                                     \r"
     ]
    },
    {
     "name": "stdout",
     "output_type": "stream",
     "text": [
      "Training - 480p - Epoch [7/10] - Training Loss: 0.0149 - Training Accuracy: 0.9962\n",
      "Validation - 480p - Epoch [7/10] - Validation Accuracy: 0.9375\n"
     ]
    },
    {
     "name": "stderr",
     "output_type": "stream",
     "text": [
      "                                                                                                                    \r"
     ]
    },
    {
     "name": "stdout",
     "output_type": "stream",
     "text": [
      "Training - 480p - Epoch [8/10] - Training Loss: 0.0246 - Training Accuracy: 0.9894\n",
      "Validation - 480p - Epoch [8/10] - Validation Accuracy: 0.9575\n"
     ]
    },
    {
     "name": "stderr",
     "output_type": "stream",
     "text": [
      "                                                                                                                     \r"
     ]
    },
    {
     "name": "stdout",
     "output_type": "stream",
     "text": [
      "Training - 480p - Epoch [9/10] - Training Loss: 0.0056 - Training Accuracy: 0.9988\n",
      "Validation - 480p - Epoch [9/10] - Validation Accuracy: 0.9675\n"
     ]
    },
    {
     "name": "stderr",
     "output_type": "stream",
     "text": [
      "                                                                                                                      \r"
     ]
    },
    {
     "name": "stdout",
     "output_type": "stream",
     "text": [
      "Training - 480p - Epoch [10/10] - Training Loss: 0.0020 - Training Accuracy: 1.0000\n",
      "Validation - 480p - Epoch [10/10] - Validation Accuracy: 0.9200\n",
      "Testing - Inception_bn Train Res: 480p, Test Res: 2160p - size: 600\n",
      "Testing - Inception_bn Train Res: 480p, Test Res: 1080p - size: 600\n",
      "Testing - Inception_bn Train Res: 480p, Test Res: 720p - size: 600\n",
      "Testing - Inception_bn Train Res: 480p, Test Res: 480p - size: 600\n",
      "Testing - Inception_bn Train Res: 480p, Test Res: 360p - size: 600\n"
     ]
    },
    {
     "name": "stderr",
     "output_type": "stream",
     "text": [
      "                                                                                                                   \r"
     ]
    },
    {
     "name": "stdout",
     "output_type": "stream",
     "text": [
      "Training - 360p - Epoch [1/10] - Training Loss: 0.1167 - Training Accuracy: 0.9531\n",
      "Validation - 360p - Epoch [1/10] - Validation Accuracy: 0.9650\n"
     ]
    },
    {
     "name": "stderr",
     "output_type": "stream",
     "text": [
      "                                                                                                                   \r"
     ]
    },
    {
     "name": "stdout",
     "output_type": "stream",
     "text": [
      "Training - 360p - Epoch [2/10] - Training Loss: 0.0470 - Training Accuracy: 0.9825\n",
      "Validation - 360p - Epoch [2/10] - Validation Accuracy: 0.9600\n"
     ]
    },
    {
     "name": "stderr",
     "output_type": "stream",
     "text": [
      "                                                                                                                    \r"
     ]
    },
    {
     "name": "stdout",
     "output_type": "stream",
     "text": [
      "Training - 360p - Epoch [3/10] - Training Loss: 0.0189 - Training Accuracy: 0.9931\n",
      "Validation - 360p - Epoch [3/10] - Validation Accuracy: 0.9700\n"
     ]
    },
    {
     "name": "stderr",
     "output_type": "stream",
     "text": [
      "                                                                                                                     \r"
     ]
    },
    {
     "name": "stdout",
     "output_type": "stream",
     "text": [
      "Training - 360p - Epoch [4/10] - Training Loss: 0.0142 - Training Accuracy: 0.9962\n",
      "Validation - 360p - Epoch [4/10] - Validation Accuracy: 0.9775\n"
     ]
    },
    {
     "name": "stderr",
     "output_type": "stream",
     "text": [
      "                                                                                                                    \r"
     ]
    },
    {
     "name": "stdout",
     "output_type": "stream",
     "text": [
      "Training - 360p - Epoch [5/10] - Training Loss: 0.0254 - Training Accuracy: 0.9919\n",
      "Validation - 360p - Epoch [5/10] - Validation Accuracy: 0.9550\n"
     ]
    },
    {
     "name": "stderr",
     "output_type": "stream",
     "text": [
      "                                                                                                                    \r"
     ]
    },
    {
     "name": "stdout",
     "output_type": "stream",
     "text": [
      "Training - 360p - Epoch [6/10] - Training Loss: 0.0314 - Training Accuracy: 0.9888\n",
      "Validation - 360p - Epoch [6/10] - Validation Accuracy: 0.9575\n"
     ]
    },
    {
     "name": "stderr",
     "output_type": "stream",
     "text": [
      "                                                                                                                    \r"
     ]
    },
    {
     "name": "stdout",
     "output_type": "stream",
     "text": [
      "Training - 360p - Epoch [7/10] - Training Loss: 0.0181 - Training Accuracy: 0.9950\n",
      "Validation - 360p - Epoch [7/10] - Validation Accuracy: 0.9675\n"
     ]
    },
    {
     "name": "stderr",
     "output_type": "stream",
     "text": [
      "                                                                                                                     \r"
     ]
    },
    {
     "name": "stdout",
     "output_type": "stream",
     "text": [
      "Training - 360p - Epoch [8/10] - Training Loss: 0.0091 - Training Accuracy: 0.9969\n",
      "Validation - 360p - Epoch [8/10] - Validation Accuracy: 0.9750\n"
     ]
    },
    {
     "name": "stderr",
     "output_type": "stream",
     "text": [
      "                                                                                                                     \r"
     ]
    },
    {
     "name": "stdout",
     "output_type": "stream",
     "text": [
      "Training - 360p - Epoch [9/10] - Training Loss: 0.0022 - Training Accuracy: 1.0000\n",
      "Validation - 360p - Epoch [9/10] - Validation Accuracy: 0.9725\n"
     ]
    },
    {
     "name": "stderr",
     "output_type": "stream",
     "text": [
      "                                                                                                                      \r"
     ]
    },
    {
     "name": "stdout",
     "output_type": "stream",
     "text": [
      "Training - 360p - Epoch [10/10] - Training Loss: 0.0156 - Training Accuracy: 0.9956\n",
      "Validation - 360p - Epoch [10/10] - Validation Accuracy: 0.9725\n",
      "Testing - Inception_bn Train Res: 360p, Test Res: 2160p - size: 600\n",
      "Testing - Inception_bn Train Res: 360p, Test Res: 1080p - size: 600\n",
      "Testing - Inception_bn Train Res: 360p, Test Res: 720p - size: 600\n",
      "Testing - Inception_bn Train Res: 360p, Test Res: 480p - size: 600\n",
      "Testing - Inception_bn Train Res: 360p, Test Res: 360p - size: 600\n"
     ]
    },
    {
     "name": "stderr",
     "output_type": "stream",
     "text": [
      "                                                                                                                       \r"
     ]
    },
    {
     "name": "stdout",
     "output_type": "stream",
     "text": [
      "Training - 2160p - Epoch [1/10] - Training Loss: 0.1558 - Training Accuracy: 0.9375\n",
      "Validation - 2160p - Epoch [1/10] - Validation Accuracy: 0.5050\n"
     ]
    },
    {
     "name": "stderr",
     "output_type": "stream",
     "text": [
      "                                                                                                                       \r"
     ]
    },
    {
     "name": "stdout",
     "output_type": "stream",
     "text": [
      "Training - 2160p - Epoch [2/10] - Training Loss: 0.0478 - Training Accuracy: 0.9800\n",
      "Validation - 2160p - Epoch [2/10] - Validation Accuracy: 0.5250\n"
     ]
    },
    {
     "name": "stderr",
     "output_type": "stream",
     "text": [
      "                                                                                                                        \r"
     ]
    },
    {
     "name": "stdout",
     "output_type": "stream",
     "text": [
      "Training - 2160p - Epoch [3/10] - Training Loss: 0.0220 - Training Accuracy: 0.9931\n",
      "Validation - 2160p - Epoch [3/10] - Validation Accuracy: 0.5650\n"
     ]
    },
    {
     "name": "stderr",
     "output_type": "stream",
     "text": [
      "                                                                                                                        \r"
     ]
    },
    {
     "name": "stdout",
     "output_type": "stream",
     "text": [
      "Training - 2160p - Epoch [4/10] - Training Loss: 0.0189 - Training Accuracy: 0.9931\n",
      "Validation - 2160p - Epoch [4/10] - Validation Accuracy: 0.6950\n"
     ]
    },
    {
     "name": "stderr",
     "output_type": "stream",
     "text": [
      "                                                                                                                         \r"
     ]
    },
    {
     "name": "stdout",
     "output_type": "stream",
     "text": [
      "Training - 2160p - Epoch [5/10] - Training Loss: 0.0062 - Training Accuracy: 0.9981\n",
      "Validation - 2160p - Epoch [5/10] - Validation Accuracy: 0.7850\n"
     ]
    },
    {
     "name": "stderr",
     "output_type": "stream",
     "text": [
      "                                                                                                                         \r"
     ]
    },
    {
     "name": "stdout",
     "output_type": "stream",
     "text": [
      "Training - 2160p - Epoch [6/10] - Training Loss: 0.0105 - Training Accuracy: 0.9969\n",
      "Validation - 2160p - Epoch [6/10] - Validation Accuracy: 0.8550\n"
     ]
    },
    {
     "name": "stderr",
     "output_type": "stream",
     "text": [
      "                                                                                                                         \r"
     ]
    },
    {
     "name": "stdout",
     "output_type": "stream",
     "text": [
      "Training - 2160p - Epoch [7/10] - Training Loss: 0.0133 - Training Accuracy: 0.9950\n",
      "Validation - 2160p - Epoch [7/10] - Validation Accuracy: 0.9225\n"
     ]
    },
    {
     "name": "stderr",
     "output_type": "stream",
     "text": [
      "                                                                                                                        \r"
     ]
    },
    {
     "name": "stdout",
     "output_type": "stream",
     "text": [
      "Training - 2160p - Epoch [8/10] - Training Loss: 0.0228 - Training Accuracy: 0.9894\n",
      "Validation - 2160p - Epoch [8/10] - Validation Accuracy: 0.9325\n"
     ]
    },
    {
     "name": "stderr",
     "output_type": "stream",
     "text": [
      "                                                                                                                        \r"
     ]
    },
    {
     "name": "stdout",
     "output_type": "stream",
     "text": [
      "Training - 2160p - Epoch [9/10] - Training Loss: 0.0192 - Training Accuracy: 0.9938\n",
      "Validation - 2160p - Epoch [9/10] - Validation Accuracy: 0.9450\n"
     ]
    },
    {
     "name": "stderr",
     "output_type": "stream",
     "text": [
      "                                                                                                                          \r"
     ]
    },
    {
     "name": "stdout",
     "output_type": "stream",
     "text": [
      "Training - 2160p - Epoch [10/10] - Training Loss: 0.0063 - Training Accuracy: 0.9981\n",
      "Validation - 2160p - Epoch [10/10] - Validation Accuracy: 0.9750\n",
      "Testing - EfficientNet_bn Train Res: 2160p, Test Res: 2160p - size: 600\n",
      "Testing - EfficientNet_bn Train Res: 2160p, Test Res: 1080p - size: 600\n",
      "Testing - EfficientNet_bn Train Res: 2160p, Test Res: 720p - size: 600\n",
      "Testing - EfficientNet_bn Train Res: 2160p, Test Res: 480p - size: 600\n",
      "Testing - EfficientNet_bn Train Res: 2160p, Test Res: 360p - size: 600\n"
     ]
    },
    {
     "name": "stderr",
     "output_type": "stream",
     "text": [
      "                                                                                                                        \r"
     ]
    },
    {
     "name": "stdout",
     "output_type": "stream",
     "text": [
      "Training - 1080p - Epoch [1/10] - Training Loss: 0.0675 - Training Accuracy: 0.9700\n",
      "Validation - 1080p - Epoch [1/10] - Validation Accuracy: 0.8200\n"
     ]
    },
    {
     "name": "stderr",
     "output_type": "stream",
     "text": [
      "                                                                                                                        \r"
     ]
    },
    {
     "name": "stdout",
     "output_type": "stream",
     "text": [
      "Training - 1080p - Epoch [2/10] - Training Loss: 0.0453 - Training Accuracy: 0.9850\n",
      "Validation - 1080p - Epoch [2/10] - Validation Accuracy: 0.9375\n"
     ]
    },
    {
     "name": "stderr",
     "output_type": "stream",
     "text": [
      "                                                                                                                        \r"
     ]
    },
    {
     "name": "stdout",
     "output_type": "stream",
     "text": [
      "Training - 1080p - Epoch [3/10] - Training Loss: 0.0157 - Training Accuracy: 0.9944\n",
      "Validation - 1080p - Epoch [3/10] - Validation Accuracy: 0.9450\n"
     ]
    },
    {
     "name": "stderr",
     "output_type": "stream",
     "text": [
      "                                                                                                                         \r"
     ]
    },
    {
     "name": "stdout",
     "output_type": "stream",
     "text": [
      "Training - 1080p - Epoch [4/10] - Training Loss: 0.0140 - Training Accuracy: 0.9950\n",
      "Validation - 1080p - Epoch [4/10] - Validation Accuracy: 0.8525\n"
     ]
    },
    {
     "name": "stderr",
     "output_type": "stream",
     "text": [
      "                                                                                                                        \r"
     ]
    },
    {
     "name": "stdout",
     "output_type": "stream",
     "text": [
      "Training - 1080p - Epoch [5/10] - Training Loss: 0.0192 - Training Accuracy: 0.9919\n",
      "Validation - 1080p - Epoch [5/10] - Validation Accuracy: 0.9550\n"
     ]
    },
    {
     "name": "stderr",
     "output_type": "stream",
     "text": [
      "                                                                                                                         \r"
     ]
    },
    {
     "name": "stdout",
     "output_type": "stream",
     "text": [
      "Training - 1080p - Epoch [6/10] - Training Loss: 0.0182 - Training Accuracy: 0.9944\n",
      "Validation - 1080p - Epoch [6/10] - Validation Accuracy: 0.9475\n"
     ]
    },
    {
     "name": "stderr",
     "output_type": "stream",
     "text": [
      "                                                                                                                         \r"
     ]
    },
    {
     "name": "stdout",
     "output_type": "stream",
     "text": [
      "Training - 1080p - Epoch [7/10] - Training Loss: 0.0039 - Training Accuracy: 0.9994\n",
      "Validation - 1080p - Epoch [7/10] - Validation Accuracy: 0.9650\n"
     ]
    },
    {
     "name": "stderr",
     "output_type": "stream",
     "text": [
      "                                                                                                                         \r"
     ]
    },
    {
     "name": "stdout",
     "output_type": "stream",
     "text": [
      "Training - 1080p - Epoch [8/10] - Training Loss: 0.0015 - Training Accuracy: 1.0000\n",
      "Validation - 1080p - Epoch [8/10] - Validation Accuracy: 0.9650\n"
     ]
    },
    {
     "name": "stderr",
     "output_type": "stream",
     "text": [
      "                                                                                                                         \r"
     ]
    },
    {
     "name": "stdout",
     "output_type": "stream",
     "text": [
      "Training - 1080p - Epoch [9/10] - Training Loss: 0.0053 - Training Accuracy: 0.9988\n",
      "Validation - 1080p - Epoch [9/10] - Validation Accuracy: 0.9750\n"
     ]
    },
    {
     "name": "stderr",
     "output_type": "stream",
     "text": [
      "                                                                                                                          \r"
     ]
    },
    {
     "name": "stdout",
     "output_type": "stream",
     "text": [
      "Training - 1080p - Epoch [10/10] - Training Loss: 0.0288 - Training Accuracy: 0.9919\n",
      "Validation - 1080p - Epoch [10/10] - Validation Accuracy: 0.9475\n",
      "Testing - EfficientNet_bn Train Res: 1080p, Test Res: 2160p - size: 600\n",
      "Testing - EfficientNet_bn Train Res: 1080p, Test Res: 1080p - size: 600\n",
      "Testing - EfficientNet_bn Train Res: 1080p, Test Res: 720p - size: 600\n",
      "Testing - EfficientNet_bn Train Res: 1080p, Test Res: 480p - size: 600\n",
      "Testing - EfficientNet_bn Train Res: 1080p, Test Res: 360p - size: 600\n"
     ]
    },
    {
     "name": "stderr",
     "output_type": "stream",
     "text": [
      "                                                                                                                       \r"
     ]
    },
    {
     "name": "stdout",
     "output_type": "stream",
     "text": [
      "Training - 720p - Epoch [1/10] - Training Loss: 0.0732 - Training Accuracy: 0.9594\n",
      "Validation - 720p - Epoch [1/10] - Validation Accuracy: 0.9625\n"
     ]
    },
    {
     "name": "stderr",
     "output_type": "stream",
     "text": [
      "                                                                                                                       \r"
     ]
    },
    {
     "name": "stdout",
     "output_type": "stream",
     "text": [
      "Training - 720p - Epoch [2/10] - Training Loss: 0.0275 - Training Accuracy: 0.9894\n",
      "Validation - 720p - Epoch [2/10] - Validation Accuracy: 0.8975\n"
     ]
    },
    {
     "name": "stderr",
     "output_type": "stream",
     "text": [
      "                                                                                                                       \r"
     ]
    },
    {
     "name": "stdout",
     "output_type": "stream",
     "text": [
      "Training - 720p - Epoch [3/10] - Training Loss: 0.0142 - Training Accuracy: 0.9956\n",
      "Validation - 720p - Epoch [3/10] - Validation Accuracy: 0.9325\n"
     ]
    },
    {
     "name": "stderr",
     "output_type": "stream",
     "text": [
      "                                                                                                                        \r"
     ]
    },
    {
     "name": "stdout",
     "output_type": "stream",
     "text": [
      "Training - 720p - Epoch [4/10] - Training Loss: 0.0062 - Training Accuracy: 0.9975\n",
      "Validation - 720p - Epoch [4/10] - Validation Accuracy: 0.9675\n"
     ]
    },
    {
     "name": "stderr",
     "output_type": "stream",
     "text": [
      "                                                                                                                        \r"
     ]
    },
    {
     "name": "stdout",
     "output_type": "stream",
     "text": [
      "Training - 720p - Epoch [5/10] - Training Loss: 0.0044 - Training Accuracy: 0.9981\n",
      "Validation - 720p - Epoch [5/10] - Validation Accuracy: 0.9775\n"
     ]
    },
    {
     "name": "stderr",
     "output_type": "stream",
     "text": [
      "                                                                                                                        \r"
     ]
    },
    {
     "name": "stdout",
     "output_type": "stream",
     "text": [
      "Training - 720p - Epoch [6/10] - Training Loss: 0.0163 - Training Accuracy: 0.9931\n",
      "Validation - 720p - Epoch [6/10] - Validation Accuracy: 0.9800\n"
     ]
    },
    {
     "name": "stderr",
     "output_type": "stream",
     "text": [
      "                                                                                                                        \r"
     ]
    },
    {
     "name": "stdout",
     "output_type": "stream",
     "text": [
      "Training - 720p - Epoch [7/10] - Training Loss: 0.0078 - Training Accuracy: 0.9981\n",
      "Validation - 720p - Epoch [7/10] - Validation Accuracy: 0.9575\n"
     ]
    },
    {
     "name": "stderr",
     "output_type": "stream",
     "text": [
      "                                                                                                                        \r"
     ]
    },
    {
     "name": "stdout",
     "output_type": "stream",
     "text": [
      "Training - 720p - Epoch [8/10] - Training Loss: 0.0090 - Training Accuracy: 0.9975\n",
      "Validation - 720p - Epoch [8/10] - Validation Accuracy: 0.9650\n"
     ]
    },
    {
     "name": "stderr",
     "output_type": "stream",
     "text": [
      "                                                                                                                        \r"
     ]
    },
    {
     "name": "stdout",
     "output_type": "stream",
     "text": [
      "Training - 720p - Epoch [9/10] - Training Loss: 0.0078 - Training Accuracy: 0.9969\n",
      "Validation - 720p - Epoch [9/10] - Validation Accuracy: 0.9550\n"
     ]
    },
    {
     "name": "stderr",
     "output_type": "stream",
     "text": [
      "                                                                                                                         \r"
     ]
    },
    {
     "name": "stdout",
     "output_type": "stream",
     "text": [
      "Training - 720p - Epoch [10/10] - Training Loss: 0.0173 - Training Accuracy: 0.9944\n",
      "Validation - 720p - Epoch [10/10] - Validation Accuracy: 0.9550\n",
      "Testing - EfficientNet_bn Train Res: 720p, Test Res: 2160p - size: 600\n",
      "Testing - EfficientNet_bn Train Res: 720p, Test Res: 1080p - size: 600\n",
      "Testing - EfficientNet_bn Train Res: 720p, Test Res: 720p - size: 600\n",
      "Testing - EfficientNet_bn Train Res: 720p, Test Res: 480p - size: 600\n",
      "Testing - EfficientNet_bn Train Res: 720p, Test Res: 360p - size: 600\n"
     ]
    },
    {
     "name": "stderr",
     "output_type": "stream",
     "text": [
      "                                                                                                                      \r"
     ]
    },
    {
     "name": "stdout",
     "output_type": "stream",
     "text": [
      "Training - 480p - Epoch [1/10] - Training Loss: 0.0890 - Training Accuracy: 0.9606\n",
      "Validation - 480p - Epoch [1/10] - Validation Accuracy: 0.9150\n"
     ]
    },
    {
     "name": "stderr",
     "output_type": "stream",
     "text": [
      "                                                                                                                       \r"
     ]
    },
    {
     "name": "stdout",
     "output_type": "stream",
     "text": [
      "Training - 480p - Epoch [2/10] - Training Loss: 0.0234 - Training Accuracy: 0.9906\n",
      "Validation - 480p - Epoch [2/10] - Validation Accuracy: 0.9525\n"
     ]
    },
    {
     "name": "stderr",
     "output_type": "stream",
     "text": [
      "                                                                                                                       \r"
     ]
    },
    {
     "name": "stdout",
     "output_type": "stream",
     "text": [
      "Training - 480p - Epoch [3/10] - Training Loss: 0.0133 - Training Accuracy: 0.9969\n",
      "Validation - 480p - Epoch [3/10] - Validation Accuracy: 0.8825\n"
     ]
    },
    {
     "name": "stderr",
     "output_type": "stream",
     "text": [
      "                                                                                                                        \r"
     ]
    },
    {
     "name": "stdout",
     "output_type": "stream",
     "text": [
      "Training - 480p - Epoch [4/10] - Training Loss: 0.0169 - Training Accuracy: 0.9944\n",
      "Validation - 480p - Epoch [4/10] - Validation Accuracy: 0.9825\n"
     ]
    },
    {
     "name": "stderr",
     "output_type": "stream",
     "text": [
      "                                                                                                                        \r"
     ]
    },
    {
     "name": "stdout",
     "output_type": "stream",
     "text": [
      "Training - 480p - Epoch [5/10] - Training Loss: 0.0063 - Training Accuracy: 0.9981\n",
      "Validation - 480p - Epoch [5/10] - Validation Accuracy: 0.9575\n"
     ]
    },
    {
     "name": "stderr",
     "output_type": "stream",
     "text": [
      "                                                                                                                        \r"
     ]
    },
    {
     "name": "stdout",
     "output_type": "stream",
     "text": [
      "Training - 480p - Epoch [6/10] - Training Loss: 0.0026 - Training Accuracy: 0.9994\n",
      "Validation - 480p - Epoch [6/10] - Validation Accuracy: 0.9650\n"
     ]
    },
    {
     "name": "stderr",
     "output_type": "stream",
     "text": [
      "                                                                                                                        \r"
     ]
    },
    {
     "name": "stdout",
     "output_type": "stream",
     "text": [
      "Training - 480p - Epoch [7/10] - Training Loss: 0.0176 - Training Accuracy: 0.9944\n",
      "Validation - 480p - Epoch [7/10] - Validation Accuracy: 0.9600\n"
     ]
    },
    {
     "name": "stderr",
     "output_type": "stream",
     "text": [
      "                                                                                                                        \r"
     ]
    },
    {
     "name": "stdout",
     "output_type": "stream",
     "text": [
      "Training - 480p - Epoch [8/10] - Training Loss: 0.0270 - Training Accuracy: 0.9931\n",
      "Validation - 480p - Epoch [8/10] - Validation Accuracy: 0.9550\n"
     ]
    },
    {
     "name": "stderr",
     "output_type": "stream",
     "text": [
      "                                                                                                                       \r"
     ]
    },
    {
     "name": "stdout",
     "output_type": "stream",
     "text": [
      "Training - 480p - Epoch [9/10] - Training Loss: 0.0141 - Training Accuracy: 0.9956\n",
      "Validation - 480p - Epoch [9/10] - Validation Accuracy: 0.9650\n"
     ]
    },
    {
     "name": "stderr",
     "output_type": "stream",
     "text": [
      "                                                                                                                         \r"
     ]
    },
    {
     "name": "stdout",
     "output_type": "stream",
     "text": [
      "Training - 480p - Epoch [10/10] - Training Loss: 0.0042 - Training Accuracy: 0.9994\n",
      "Validation - 480p - Epoch [10/10] - Validation Accuracy: 0.9600\n",
      "Testing - EfficientNet_bn Train Res: 480p, Test Res: 2160p - size: 600\n",
      "Testing - EfficientNet_bn Train Res: 480p, Test Res: 1080p - size: 600\n",
      "Testing - EfficientNet_bn Train Res: 480p, Test Res: 720p - size: 600\n",
      "Testing - EfficientNet_bn Train Res: 480p, Test Res: 480p - size: 600\n",
      "Testing - EfficientNet_bn Train Res: 480p, Test Res: 360p - size: 600\n"
     ]
    },
    {
     "name": "stderr",
     "output_type": "stream",
     "text": [
      "                                                                                                                      \r"
     ]
    },
    {
     "name": "stdout",
     "output_type": "stream",
     "text": [
      "Training - 360p - Epoch [1/10] - Training Loss: 0.1136 - Training Accuracy: 0.9594\n",
      "Validation - 360p - Epoch [1/10] - Validation Accuracy: 0.9450\n"
     ]
    },
    {
     "name": "stderr",
     "output_type": "stream",
     "text": [
      "                                                                                                                       \r"
     ]
    },
    {
     "name": "stdout",
     "output_type": "stream",
     "text": [
      "Training - 360p - Epoch [2/10] - Training Loss: 0.0289 - Training Accuracy: 0.9906\n",
      "Validation - 360p - Epoch [2/10] - Validation Accuracy: 0.9600\n"
     ]
    },
    {
     "name": "stderr",
     "output_type": "stream",
     "text": [
      "                                                                                                                       \r"
     ]
    },
    {
     "name": "stdout",
     "output_type": "stream",
     "text": [
      "Training - 360p - Epoch [3/10] - Training Loss: 0.0147 - Training Accuracy: 0.9950\n",
      "Validation - 360p - Epoch [3/10] - Validation Accuracy: 0.9725\n"
     ]
    },
    {
     "name": "stderr",
     "output_type": "stream",
     "text": [
      "                                                                                                                       \r"
     ]
    },
    {
     "name": "stdout",
     "output_type": "stream",
     "text": [
      "Training - 360p - Epoch [4/10] - Training Loss: 0.0176 - Training Accuracy: 0.9944\n",
      "Validation - 360p - Epoch [4/10] - Validation Accuracy: 0.9725\n"
     ]
    },
    {
     "name": "stderr",
     "output_type": "stream",
     "text": [
      "                                                                                                                       \r"
     ]
    },
    {
     "name": "stdout",
     "output_type": "stream",
     "text": [
      "Training - 360p - Epoch [5/10] - Training Loss: 0.0134 - Training Accuracy: 0.9969\n",
      "Validation - 360p - Epoch [5/10] - Validation Accuracy: 0.9575\n"
     ]
    },
    {
     "name": "stderr",
     "output_type": "stream",
     "text": [
      "                                                                                                                        \r"
     ]
    },
    {
     "name": "stdout",
     "output_type": "stream",
     "text": [
      "Training - 360p - Epoch [6/10] - Training Loss: 0.0120 - Training Accuracy: 0.9956\n",
      "Validation - 360p - Epoch [6/10] - Validation Accuracy: 0.9825\n"
     ]
    },
    {
     "name": "stderr",
     "output_type": "stream",
     "text": [
      "                                                                                                                        \r"
     ]
    },
    {
     "name": "stdout",
     "output_type": "stream",
     "text": [
      "Training - 360p - Epoch [7/10] - Training Loss: 0.0108 - Training Accuracy: 0.9950\n",
      "Validation - 360p - Epoch [7/10] - Validation Accuracy: 0.9775\n"
     ]
    },
    {
     "name": "stderr",
     "output_type": "stream",
     "text": [
      "                                                                                                                        \r"
     ]
    },
    {
     "name": "stdout",
     "output_type": "stream",
     "text": [
      "Training - 360p - Epoch [8/10] - Training Loss: 0.0189 - Training Accuracy: 0.9950\n",
      "Validation - 360p - Epoch [8/10] - Validation Accuracy: 0.9600\n"
     ]
    },
    {
     "name": "stderr",
     "output_type": "stream",
     "text": [
      "                                                                                                                        \r"
     ]
    },
    {
     "name": "stdout",
     "output_type": "stream",
     "text": [
      "Training - 360p - Epoch [9/10] - Training Loss: 0.0108 - Training Accuracy: 0.9950\n",
      "Validation - 360p - Epoch [9/10] - Validation Accuracy: 0.9675\n"
     ]
    },
    {
     "name": "stderr",
     "output_type": "stream",
     "text": [
      "                                                                                                                         \r"
     ]
    },
    {
     "name": "stdout",
     "output_type": "stream",
     "text": [
      "Training - 360p - Epoch [10/10] - Training Loss: 0.0182 - Training Accuracy: 0.9931\n",
      "Validation - 360p - Epoch [10/10] - Validation Accuracy: 0.9775\n",
      "Testing - EfficientNet_bn Train Res: 360p, Test Res: 2160p - size: 600\n",
      "Testing - EfficientNet_bn Train Res: 360p, Test Res: 1080p - size: 600\n",
      "Testing - EfficientNet_bn Train Res: 360p, Test Res: 720p - size: 600\n",
      "Testing - EfficientNet_bn Train Res: 360p, Test Res: 480p - size: 600\n",
      "Testing - EfficientNet_bn Train Res: 360p, Test Res: 360p - size: 600\n"
     ]
    },
    {
     "name": "stderr",
     "output_type": "stream",
     "text": [
      "                                                                                                                    \r"
     ]
    },
    {
     "name": "stdout",
     "output_type": "stream",
     "text": [
      "Training - 2160p - Epoch [1/10] - Training Loss: 0.1987 - Training Accuracy: 0.9256\n",
      "Validation - 2160p - Epoch [1/10] - Validation Accuracy: 0.8900\n"
     ]
    },
    {
     "name": "stderr",
     "output_type": "stream",
     "text": [
      "                                                                                                                     \r"
     ]
    },
    {
     "name": "stdout",
     "output_type": "stream",
     "text": [
      "Training - 2160p - Epoch [2/10] - Training Loss: 0.0477 - Training Accuracy: 0.9838\n",
      "Validation - 2160p - Epoch [2/10] - Validation Accuracy: 0.9075\n"
     ]
    },
    {
     "name": "stderr",
     "output_type": "stream",
     "text": [
      "                                                                                                                     \r"
     ]
    },
    {
     "name": "stdout",
     "output_type": "stream",
     "text": [
      "Training - 2160p - Epoch [3/10] - Training Loss: 0.0181 - Training Accuracy: 0.9925\n",
      "Validation - 2160p - Epoch [3/10] - Validation Accuracy: 0.9750\n"
     ]
    },
    {
     "name": "stderr",
     "output_type": "stream",
     "text": [
      "                                                                                                                     \r"
     ]
    },
    {
     "name": "stdout",
     "output_type": "stream",
     "text": [
      "Training - 2160p - Epoch [4/10] - Training Loss: 0.0187 - Training Accuracy: 0.9944\n",
      "Validation - 2160p - Epoch [4/10] - Validation Accuracy: 0.9700\n"
     ]
    },
    {
     "name": "stderr",
     "output_type": "stream",
     "text": [
      "                                                                                                                      \r"
     ]
    },
    {
     "name": "stdout",
     "output_type": "stream",
     "text": [
      "Training - 2160p - Epoch [5/10] - Training Loss: 0.0151 - Training Accuracy: 0.9956\n",
      "Validation - 2160p - Epoch [5/10] - Validation Accuracy: 0.9725\n"
     ]
    },
    {
     "name": "stderr",
     "output_type": "stream",
     "text": [
      "                                                                                                                      \r"
     ]
    },
    {
     "name": "stdout",
     "output_type": "stream",
     "text": [
      "Training - 2160p - Epoch [6/10] - Training Loss: 0.0265 - Training Accuracy: 0.9912\n",
      "Validation - 2160p - Epoch [6/10] - Validation Accuracy: 0.9275\n"
     ]
    },
    {
     "name": "stderr",
     "output_type": "stream",
     "text": [
      "                                                                                                                     \r"
     ]
    },
    {
     "name": "stdout",
     "output_type": "stream",
     "text": [
      "Training - 2160p - Epoch [7/10] - Training Loss: 0.0290 - Training Accuracy: 0.9912\n",
      "Validation - 2160p - Epoch [7/10] - Validation Accuracy: 0.9250\n"
     ]
    },
    {
     "name": "stderr",
     "output_type": "stream",
     "text": [
      "                                                                                                                      \r"
     ]
    },
    {
     "name": "stdout",
     "output_type": "stream",
     "text": [
      "Training - 2160p - Epoch [8/10] - Training Loss: 0.0088 - Training Accuracy: 0.9962\n",
      "Validation - 2160p - Epoch [8/10] - Validation Accuracy: 0.9850\n"
     ]
    },
    {
     "name": "stderr",
     "output_type": "stream",
     "text": [
      "                                                                                                                      \r"
     ]
    },
    {
     "name": "stdout",
     "output_type": "stream",
     "text": [
      "Training - 2160p - Epoch [9/10] - Training Loss: 0.0028 - Training Accuracy: 0.9994\n",
      "Validation - 2160p - Epoch [9/10] - Validation Accuracy: 0.9825\n"
     ]
    },
    {
     "name": "stderr",
     "output_type": "stream",
     "text": [
      "                                                                                                                       \r"
     ]
    },
    {
     "name": "stdout",
     "output_type": "stream",
     "text": [
      "Training - 2160p - Epoch [10/10] - Training Loss: 0.0028 - Training Accuracy: 0.9994\n",
      "Validation - 2160p - Epoch [10/10] - Validation Accuracy: 0.9800\n",
      "Testing - MobileNet_bn Train Res: 2160p, Test Res: 2160p - size: 600\n",
      "Testing - MobileNet_bn Train Res: 2160p, Test Res: 1080p - size: 600\n",
      "Testing - MobileNet_bn Train Res: 2160p, Test Res: 720p - size: 600\n",
      "Testing - MobileNet_bn Train Res: 2160p, Test Res: 480p - size: 600\n",
      "Testing - MobileNet_bn Train Res: 2160p, Test Res: 360p - size: 600\n"
     ]
    },
    {
     "name": "stderr",
     "output_type": "stream",
     "text": [
      "                                                                                                                     \r"
     ]
    },
    {
     "name": "stdout",
     "output_type": "stream",
     "text": [
      "Training - 1080p - Epoch [1/10] - Training Loss: 0.0810 - Training Accuracy: 0.9519\n",
      "Validation - 1080p - Epoch [1/10] - Validation Accuracy: 0.9600\n"
     ]
    },
    {
     "name": "stderr",
     "output_type": "stream",
     "text": [
      "                                                                                                                      \r"
     ]
    },
    {
     "name": "stdout",
     "output_type": "stream",
     "text": [
      "Training - 1080p - Epoch [2/10] - Training Loss: 0.0141 - Training Accuracy: 0.9962\n",
      "Validation - 1080p - Epoch [2/10] - Validation Accuracy: 0.9800\n"
     ]
    },
    {
     "name": "stderr",
     "output_type": "stream",
     "text": [
      "                                                                                                                      \r"
     ]
    },
    {
     "name": "stdout",
     "output_type": "stream",
     "text": [
      "Training - 1080p - Epoch [3/10] - Training Loss: 0.0188 - Training Accuracy: 0.9931\n",
      "Validation - 1080p - Epoch [3/10] - Validation Accuracy: 0.9800\n"
     ]
    },
    {
     "name": "stderr",
     "output_type": "stream",
     "text": [
      "                                                                                                                      \r"
     ]
    },
    {
     "name": "stdout",
     "output_type": "stream",
     "text": [
      "Training - 1080p - Epoch [4/10] - Training Loss: 0.0153 - Training Accuracy: 0.9944\n",
      "Validation - 1080p - Epoch [4/10] - Validation Accuracy: 0.9850\n"
     ]
    },
    {
     "name": "stderr",
     "output_type": "stream",
     "text": [
      "                                                                                                                      \r"
     ]
    },
    {
     "name": "stdout",
     "output_type": "stream",
     "text": [
      "Training - 1080p - Epoch [5/10] - Training Loss: 0.0144 - Training Accuracy: 0.9950\n",
      "Validation - 1080p - Epoch [5/10] - Validation Accuracy: 0.9750\n"
     ]
    },
    {
     "name": "stderr",
     "output_type": "stream",
     "text": [
      "                                                                                                                      \r"
     ]
    },
    {
     "name": "stdout",
     "output_type": "stream",
     "text": [
      "Training - 1080p - Epoch [6/10] - Training Loss: 0.0190 - Training Accuracy: 0.9919\n",
      "Validation - 1080p - Epoch [6/10] - Validation Accuracy: 0.9550\n"
     ]
    },
    {
     "name": "stderr",
     "output_type": "stream",
     "text": [
      "                                                                                                                      \r"
     ]
    },
    {
     "name": "stdout",
     "output_type": "stream",
     "text": [
      "Training - 1080p - Epoch [7/10] - Training Loss: 0.0091 - Training Accuracy: 0.9950\n",
      "Validation - 1080p - Epoch [7/10] - Validation Accuracy: 0.9200\n"
     ]
    },
    {
     "name": "stderr",
     "output_type": "stream",
     "text": [
      "                                                                                                                      \r"
     ]
    },
    {
     "name": "stdout",
     "output_type": "stream",
     "text": [
      "Training - 1080p - Epoch [8/10] - Training Loss: 0.0182 - Training Accuracy: 0.9925\n",
      "Validation - 1080p - Epoch [8/10] - Validation Accuracy: 0.9825\n"
     ]
    },
    {
     "name": "stderr",
     "output_type": "stream",
     "text": [
      "                                                                                                                      \r"
     ]
    },
    {
     "name": "stdout",
     "output_type": "stream",
     "text": [
      "Training - 1080p - Epoch [9/10] - Training Loss: 0.0143 - Training Accuracy: 0.9944\n",
      "Validation - 1080p - Epoch [9/10] - Validation Accuracy: 0.9875\n"
     ]
    },
    {
     "name": "stderr",
     "output_type": "stream",
     "text": [
      "                                                                                                                       \r"
     ]
    },
    {
     "name": "stdout",
     "output_type": "stream",
     "text": [
      "Training - 1080p - Epoch [10/10] - Training Loss: 0.0067 - Training Accuracy: 0.9975\n",
      "Validation - 1080p - Epoch [10/10] - Validation Accuracy: 0.9775\n",
      "Testing - MobileNet_bn Train Res: 1080p, Test Res: 2160p - size: 600\n",
      "Testing - MobileNet_bn Train Res: 1080p, Test Res: 1080p - size: 600\n",
      "Testing - MobileNet_bn Train Res: 1080p, Test Res: 720p - size: 600\n",
      "Testing - MobileNet_bn Train Res: 1080p, Test Res: 480p - size: 600\n",
      "Testing - MobileNet_bn Train Res: 1080p, Test Res: 360p - size: 600\n"
     ]
    },
    {
     "name": "stderr",
     "output_type": "stream",
     "text": [
      "                                                                                                                    \r"
     ]
    },
    {
     "name": "stdout",
     "output_type": "stream",
     "text": [
      "Training - 720p - Epoch [1/10] - Training Loss: 0.0886 - Training Accuracy: 0.9656\n",
      "Validation - 720p - Epoch [1/10] - Validation Accuracy: 0.9625\n"
     ]
    },
    {
     "name": "stderr",
     "output_type": "stream",
     "text": [
      "                                                                                                                     \r"
     ]
    },
    {
     "name": "stdout",
     "output_type": "stream",
     "text": [
      "Training - 720p - Epoch [2/10] - Training Loss: 0.0143 - Training Accuracy: 0.9944\n",
      "Validation - 720p - Epoch [2/10] - Validation Accuracy: 0.9325\n"
     ]
    },
    {
     "name": "stderr",
     "output_type": "stream",
     "text": [
      "                                                                                                                     \r"
     ]
    },
    {
     "name": "stdout",
     "output_type": "stream",
     "text": [
      "Training - 720p - Epoch [3/10] - Training Loss: 0.0369 - Training Accuracy: 0.9881\n",
      "Validation - 720p - Epoch [3/10] - Validation Accuracy: 0.9600\n"
     ]
    },
    {
     "name": "stderr",
     "output_type": "stream",
     "text": [
      "                                                                                                                    \r"
     ]
    },
    {
     "name": "stdout",
     "output_type": "stream",
     "text": [
      "Training - 720p - Epoch [4/10] - Training Loss: 0.0124 - Training Accuracy: 0.9969\n",
      "Validation - 720p - Epoch [4/10] - Validation Accuracy: 0.9875\n"
     ]
    },
    {
     "name": "stderr",
     "output_type": "stream",
     "text": [
      "                                                                                                                     \r"
     ]
    },
    {
     "name": "stdout",
     "output_type": "stream",
     "text": [
      "Training - 720p - Epoch [5/10] - Training Loss: 0.0043 - Training Accuracy: 0.9988\n",
      "Validation - 720p - Epoch [5/10] - Validation Accuracy: 0.9875\n"
     ]
    },
    {
     "name": "stderr",
     "output_type": "stream",
     "text": [
      "                                                                                                                     \r"
     ]
    },
    {
     "name": "stdout",
     "output_type": "stream",
     "text": [
      "Training - 720p - Epoch [6/10] - Training Loss: 0.0054 - Training Accuracy: 0.9988\n",
      "Validation - 720p - Epoch [6/10] - Validation Accuracy: 0.9800\n"
     ]
    },
    {
     "name": "stderr",
     "output_type": "stream",
     "text": [
      "                                                                                                                     \r"
     ]
    },
    {
     "name": "stdout",
     "output_type": "stream",
     "text": [
      "Training - 720p - Epoch [7/10] - Training Loss: 0.0022 - Training Accuracy: 0.9994\n",
      "Validation - 720p - Epoch [7/10] - Validation Accuracy: 0.9775\n"
     ]
    },
    {
     "name": "stderr",
     "output_type": "stream",
     "text": [
      "                                                                                                                     \r"
     ]
    },
    {
     "name": "stdout",
     "output_type": "stream",
     "text": [
      "Training - 720p - Epoch [8/10] - Training Loss: 0.0050 - Training Accuracy: 0.9988\n",
      "Validation - 720p - Epoch [8/10] - Validation Accuracy: 0.9875\n"
     ]
    },
    {
     "name": "stderr",
     "output_type": "stream",
     "text": [
      "                                                                                                                     \r"
     ]
    },
    {
     "name": "stdout",
     "output_type": "stream",
     "text": [
      "Training - 720p - Epoch [9/10] - Training Loss: 0.0030 - Training Accuracy: 0.9994\n",
      "Validation - 720p - Epoch [9/10] - Validation Accuracy: 0.9800\n"
     ]
    },
    {
     "name": "stderr",
     "output_type": "stream",
     "text": [
      "                                                                                                                      \r"
     ]
    },
    {
     "name": "stdout",
     "output_type": "stream",
     "text": [
      "Training - 720p - Epoch [10/10] - Training Loss: 0.0229 - Training Accuracy: 0.9925\n",
      "Validation - 720p - Epoch [10/10] - Validation Accuracy: 0.8375\n",
      "Testing - MobileNet_bn Train Res: 720p, Test Res: 2160p - size: 600\n",
      "Testing - MobileNet_bn Train Res: 720p, Test Res: 1080p - size: 600\n",
      "Testing - MobileNet_bn Train Res: 720p, Test Res: 720p - size: 600\n",
      "Testing - MobileNet_bn Train Res: 720p, Test Res: 480p - size: 600\n",
      "Testing - MobileNet_bn Train Res: 720p, Test Res: 360p - size: 600\n"
     ]
    },
    {
     "name": "stderr",
     "output_type": "stream",
     "text": [
      "                                                                                                                    \r"
     ]
    },
    {
     "name": "stdout",
     "output_type": "stream",
     "text": [
      "Training - 480p - Epoch [1/10] - Training Loss: 0.0814 - Training Accuracy: 0.9719\n",
      "Validation - 480p - Epoch [1/10] - Validation Accuracy: 0.9675\n"
     ]
    },
    {
     "name": "stderr",
     "output_type": "stream",
     "text": [
      "                                                                                                                    \r"
     ]
    },
    {
     "name": "stdout",
     "output_type": "stream",
     "text": [
      "Training - 480p - Epoch [2/10] - Training Loss: 0.0434 - Training Accuracy: 0.9856\n",
      "Validation - 480p - Epoch [2/10] - Validation Accuracy: 0.9325\n"
     ]
    },
    {
     "name": "stderr",
     "output_type": "stream",
     "text": [
      "                                                                                                                    \r"
     ]
    },
    {
     "name": "stdout",
     "output_type": "stream",
     "text": [
      "Training - 480p - Epoch [3/10] - Training Loss: 0.0310 - Training Accuracy: 0.9869\n",
      "Validation - 480p - Epoch [3/10] - Validation Accuracy: 0.9425\n"
     ]
    },
    {
     "name": "stderr",
     "output_type": "stream",
     "text": [
      "                                                                                                                    \r"
     ]
    },
    {
     "name": "stdout",
     "output_type": "stream",
     "text": [
      "Training - 480p - Epoch [4/10] - Training Loss: 0.0241 - Training Accuracy: 0.9925\n",
      "Validation - 480p - Epoch [4/10] - Validation Accuracy: 0.9225\n"
     ]
    },
    {
     "name": "stderr",
     "output_type": "stream",
     "text": [
      "                                                                                                                     \r"
     ]
    },
    {
     "name": "stdout",
     "output_type": "stream",
     "text": [
      "Training - 480p - Epoch [5/10] - Training Loss: 0.0093 - Training Accuracy: 0.9975\n",
      "Validation - 480p - Epoch [5/10] - Validation Accuracy: 0.9700\n"
     ]
    },
    {
     "name": "stderr",
     "output_type": "stream",
     "text": [
      "                                                                                                                     \r"
     ]
    },
    {
     "name": "stdout",
     "output_type": "stream",
     "text": [
      "Training - 480p - Epoch [6/10] - Training Loss: 0.0088 - Training Accuracy: 0.9975\n",
      "Validation - 480p - Epoch [6/10] - Validation Accuracy: 0.9650\n"
     ]
    },
    {
     "name": "stderr",
     "output_type": "stream",
     "text": [
      "                                                                                                                     \r"
     ]
    },
    {
     "name": "stdout",
     "output_type": "stream",
     "text": [
      "Training - 480p - Epoch [7/10] - Training Loss: 0.0068 - Training Accuracy: 0.9969\n",
      "Validation - 480p - Epoch [7/10] - Validation Accuracy: 0.9700\n"
     ]
    },
    {
     "name": "stderr",
     "output_type": "stream",
     "text": [
      "                                                                                                                     \r"
     ]
    },
    {
     "name": "stdout",
     "output_type": "stream",
     "text": [
      "Training - 480p - Epoch [8/10] - Training Loss: 0.0044 - Training Accuracy: 0.9988\n",
      "Validation - 480p - Epoch [8/10] - Validation Accuracy: 0.9500\n"
     ]
    },
    {
     "name": "stderr",
     "output_type": "stream",
     "text": [
      "                                                                                                                     \r"
     ]
    },
    {
     "name": "stdout",
     "output_type": "stream",
     "text": [
      "Training - 480p - Epoch [9/10] - Training Loss: 0.0099 - Training Accuracy: 0.9962\n",
      "Validation - 480p - Epoch [9/10] - Validation Accuracy: 0.9800\n"
     ]
    },
    {
     "name": "stderr",
     "output_type": "stream",
     "text": [
      "                                                                                                                      \r"
     ]
    },
    {
     "name": "stdout",
     "output_type": "stream",
     "text": [
      "Training - 480p - Epoch [10/10] - Training Loss: 0.0093 - Training Accuracy: 0.9962\n",
      "Validation - 480p - Epoch [10/10] - Validation Accuracy: 0.9650\n",
      "Testing - MobileNet_bn Train Res: 480p, Test Res: 2160p - size: 600\n",
      "Testing - MobileNet_bn Train Res: 480p, Test Res: 1080p - size: 600\n",
      "Testing - MobileNet_bn Train Res: 480p, Test Res: 720p - size: 600\n",
      "Testing - MobileNet_bn Train Res: 480p, Test Res: 480p - size: 600\n",
      "Testing - MobileNet_bn Train Res: 480p, Test Res: 360p - size: 600\n"
     ]
    },
    {
     "name": "stderr",
     "output_type": "stream",
     "text": [
      "                                                                                                                    \r"
     ]
    },
    {
     "name": "stdout",
     "output_type": "stream",
     "text": [
      "Training - 360p - Epoch [1/10] - Training Loss: 0.1138 - Training Accuracy: 0.9469\n",
      "Validation - 360p - Epoch [1/10] - Validation Accuracy: 0.9700\n"
     ]
    },
    {
     "name": "stderr",
     "output_type": "stream",
     "text": [
      "                                                                                                                    \r"
     ]
    },
    {
     "name": "stdout",
     "output_type": "stream",
     "text": [
      "Training - 360p - Epoch [2/10] - Training Loss: 0.0451 - Training Accuracy: 0.9838\n",
      "Validation - 360p - Epoch [2/10] - Validation Accuracy: 0.9350\n"
     ]
    },
    {
     "name": "stderr",
     "output_type": "stream",
     "text": [
      "                                                                                                                    \r"
     ]
    },
    {
     "name": "stdout",
     "output_type": "stream",
     "text": [
      "Training - 360p - Epoch [3/10] - Training Loss: 0.0331 - Training Accuracy: 0.9888\n",
      "Validation - 360p - Epoch [3/10] - Validation Accuracy: 0.9725\n"
     ]
    },
    {
     "name": "stderr",
     "output_type": "stream",
     "text": [
      "                                                                                                                     \r"
     ]
    },
    {
     "name": "stdout",
     "output_type": "stream",
     "text": [
      "Training - 360p - Epoch [4/10] - Training Loss: 0.0135 - Training Accuracy: 0.9944\n",
      "Validation - 360p - Epoch [4/10] - Validation Accuracy: 0.9400\n"
     ]
    },
    {
     "name": "stderr",
     "output_type": "stream",
     "text": [
      "                                                                                                                     \r"
     ]
    },
    {
     "name": "stdout",
     "output_type": "stream",
     "text": [
      "Training - 360p - Epoch [5/10] - Training Loss: 0.0312 - Training Accuracy: 0.9869\n",
      "Validation - 360p - Epoch [5/10] - Validation Accuracy: 0.9625\n"
     ]
    },
    {
     "name": "stderr",
     "output_type": "stream",
     "text": [
      "                                                                                                                    \r"
     ]
    },
    {
     "name": "stdout",
     "output_type": "stream",
     "text": [
      "Training - 360p - Epoch [6/10] - Training Loss: 0.0181 - Training Accuracy: 0.9925\n",
      "Validation - 360p - Epoch [6/10] - Validation Accuracy: 0.9725\n"
     ]
    },
    {
     "name": "stderr",
     "output_type": "stream",
     "text": [
      "                                                                                                                     \r"
     ]
    },
    {
     "name": "stdout",
     "output_type": "stream",
     "text": [
      "Training - 360p - Epoch [7/10] - Training Loss: 0.0080 - Training Accuracy: 0.9975\n",
      "Validation - 360p - Epoch [7/10] - Validation Accuracy: 0.9650\n"
     ]
    },
    {
     "name": "stderr",
     "output_type": "stream",
     "text": [
      "                                                                                                                     \r"
     ]
    },
    {
     "name": "stdout",
     "output_type": "stream",
     "text": [
      "Training - 360p - Epoch [8/10] - Training Loss: 0.0110 - Training Accuracy: 0.9938\n",
      "Validation - 360p - Epoch [8/10] - Validation Accuracy: 0.9325\n"
     ]
    },
    {
     "name": "stderr",
     "output_type": "stream",
     "text": [
      "                                                                                                                     \r"
     ]
    },
    {
     "name": "stdout",
     "output_type": "stream",
     "text": [
      "Training - 360p - Epoch [9/10] - Training Loss: 0.0067 - Training Accuracy: 0.9981\n",
      "Validation - 360p - Epoch [9/10] - Validation Accuracy: 0.9775\n"
     ]
    },
    {
     "name": "stderr",
     "output_type": "stream",
     "text": [
      "                                                                                                                      \r"
     ]
    },
    {
     "name": "stdout",
     "output_type": "stream",
     "text": [
      "Training - 360p - Epoch [10/10] - Training Loss: 0.0081 - Training Accuracy: 0.9975\n",
      "Validation - 360p - Epoch [10/10] - Validation Accuracy: 0.9700\n",
      "Testing - MobileNet_bn Train Res: 360p, Test Res: 2160p - size: 600\n",
      "Testing - MobileNet_bn Train Res: 360p, Test Res: 1080p - size: 600\n",
      "Testing - MobileNet_bn Train Res: 360p, Test Res: 720p - size: 600\n",
      "Testing - MobileNet_bn Train Res: 360p, Test Res: 480p - size: 600\n",
      "Testing - MobileNet_bn Train Res: 360p, Test Res: 360p - size: 600\n"
     ]
    }
   ],
   "source": [
    "if __name__ == '__main__':\n",
    "    torch.multiprocessing.freeze_support()\n",
    "    main()"
   ]
  },
  {
   "cell_type": "code",
   "execution_count": 17,
   "metadata": {},
   "outputs": [
    {
     "data": {
      "image/png": "[encoded data removed]",
      "text/plain": [
       "<Figure size 1500x500 with 2 Axes>"
      ]
     },
     "metadata": {},
     "output_type": "display_data"
    }
   ],
   "source": [
    "### Matrix heatmap grouped by resolution\n",
    "\n",
    "import pandas as pd\n",
    "import seaborn as sns\n",
    "import matplotlib.pyplot as plt\n",
    "\n",
    "# Read the data from Excel file\n",
    "data = pd.read_excel(r\"C:\\ThesisMedia\\CroppedPralines\\Grouped_dataset\\Thesis_Dataset_Resolution\\Outputs\\Testing_results.xlsx\", header=0)\n",
    "\n",
    "data.drop(['Test_Accuracy', 'Test_Recall', 'Test_Precision', 'Test_F1_Score'], axis=1, inplace=True)\n",
    "\n",
    "# Concatenate the 'Type' column with 'X' and 'Y' columns\n",
    "data['Res_train'] = data['Model'] + \" - \" + data['Train_resolution'].astype(str)\n",
    "data['Res_test'] = data['Test_resolution'].astype(str).str.rstrip('p').astype(int)  # Remove 'p' from the resolution values\n",
    "\n",
    "# Pivot the data to create a correlation matrix\n",
    "correlation_data = data.pivot(index='Res_test', columns='Res_train', values='Test_mAP')\n",
    "\n",
    "# Sort the unique Testing and Training resolution values in ascending order\n",
    "sorted_resolutions_test = sorted(data['Res_test'].unique())\n",
    "\n",
    "# Sort the column names (Res_train) based on the resolution values in descending order\n",
    "sorted_resolutions_train = sorted(data['Res_train'].unique(), key=lambda x: int(x.split(\" - \")[1].replace(\"p\", \"\")), reverse=True)\n",
    "\n",
    "# Reorder the rows and columns of the correlation matrix based on the sorted resolution values\n",
    "correlation_data = correlation_data[sorted_resolutions_train]\n",
    "\n",
    "# Create the correlation heatmap\n",
    "plt.figure(figsize=(15, 5))\n",
    "ax = sns.heatmap(correlation_data, annot=True, cmap='coolwarm', fmt='.2f')\n",
    "\n",
    "# Add thin vertical lines every 5 columns\n",
    "for col in range(0, correlation_data.shape[1], 5):\n",
    "    ax.vlines(col, *ax.get_ylim(), colors='black', linewidth=1)\n",
    "\n",
    "# Rotate x-axis labels to have a slant (e.g., 45 degrees)\n",
    "ax.set_xticklabels(ax.get_xticklabels(), rotation=45, ha='right')\n",
    "\n",
    "# plt.title(\"Test mAP Matrix heatmap\")\n",
    "# plt.xlabel(\"Model - Training resolution\")\n",
    "plt.xlabel(\"\")\n",
    "plt.ylabel(\"Testing resolution\")\n",
    "plt.show()"
   ]
  },
  {
   "cell_type": "code",
   "execution_count": 21,
   "metadata": {},
   "outputs": [
    {
     "data": {
      "image/png": "[encoded data removed]",
      "text/plain": [
       "<Figure size 1500x500 with 2 Axes>"
      ]
     },
     "metadata": {},
     "output_type": "display_data"
    }
   ],
   "source": [
    "### Matrix heatmap grouped by model and resolution order\n",
    "\n",
    "import pandas as pd\n",
    "import seaborn as sns\n",
    "import matplotlib.pyplot as plt\n",
    "\n",
    "# Read the data from Excel file\n",
    "data = pd.read_excel(r\"C:\\ThesisMedia\\CroppedPralines\\Grouped_dataset\\Thesis_Dataset_Resolution\\Outputs\\Testing_results.xlsx\", header=0)\n",
    "\n",
    "data.drop(['Test_Accuracy', 'Test_Recall', 'Test_Precision', 'Test_F1_Score'], axis=1, inplace=True)\n",
    "\n",
    "# Concatenate the 'Type' column with 'X' and 'Y' columns\n",
    "data['Res_train'] = data['Model'] + \" - \" + data['Train_resolution'].astype(str)\n",
    "data['Res_test'] = data['Test_resolution'].astype(str).str.rstrip('p').astype(int)  # Remove 'p' from the resolution values\n",
    "\n",
    "# Pivot the data to create a correlation matrix\n",
    "correlation_data = data.pivot(index='Res_test', columns='Res_train', values='Test_mAP')\n",
    "\n",
    "# Sort the unique Testing and Training resolution values in ascending order\n",
    "sorted_resolutions_test = sorted(data['Res_test'].unique(), reverse=True)\n",
    "\n",
    "# Create a custom sort order function based on model names and resolution values\n",
    "def custom_sort_order(col):\n",
    "    model, resolution = col.split(\" - \")\n",
    "    return (model, -int(resolution.rstrip(\"p\")))\n",
    "\n",
    "# Sort the columns of the correlation matrix based on the custom sort order\n",
    "sorted_columns = sorted(correlation_data.columns, key=custom_sort_order)\n",
    "correlation_data = correlation_data[sorted_columns]\n",
    "\n",
    "# Group x-axis labels by model\n",
    "model_names = list(set(col.split(\" - \")[0] for col in correlation_data.columns))\n",
    "grouped_labels = [f\"{model} - {res}\" for model in model_names for res in sorted_resolutions_test]\n",
    "\n",
    "# Create the correlation heatmap\n",
    "plt.figure(figsize=(15, 5))\n",
    "ax = sns.heatmap(correlation_data, annot=True, cmap='coolwarm', fmt='.2f')\n",
    "\n",
    "# Add thin vertical lines every 5 columns\n",
    "for col in range(0, correlation_data.shape[1], 5):\n",
    "    ax.vlines(col, *ax.get_ylim(), colors='black', linewidth=1)\n",
    "\n",
    "# Set new x-axis labels with grouped model names and resolutions\n",
    "# ax.set_xticks(range(correlation_data.shape[1]))\n",
    "ax.set_xticklabels(grouped_labels, rotation=45, ha='right')\n",
    "\n",
    "plt.title(\"mAP Matrix Heatmap\")\n",
    "plt.xlabel(\"Model - Training resolution\")\n",
    "plt.ylabel(\"Testing resolution\")\n",
    "plt.show()\n"
   ]
  },
  {
   "cell_type": "code",
   "execution_count": 16,
   "metadata": {},
   "outputs": [
    {
     "data": {
      "image/png": "[encoded data removed]",
      "text/plain": [
       "<Figure size 1500x500 with 2 Axes>"
      ]
     },
     "metadata": {},
     "output_type": "display_data"
    }
   ],
   "source": [
    "### Matrix heatmap grouped by resolution\n",
    "\n",
    "import pandas as pd\n",
    "import seaborn as sns\n",
    "import matplotlib.pyplot as plt\n",
    "\n",
    "# Read the data from Excel file\n",
    "data = pd.read_excel(r\"C:\\ThesisMedia\\CroppedPralines\\Grouped_dataset\\Thesis_Dataset_Resolution\\Outputs\\Testing_results.xlsx\", header=0)\n",
    "\n",
    "# data.drop(['Test_Accuracy', 'Test_Recall', 'Test_Precision', 'Test_F1_Score'], axis=1, inplace=True)\n",
    "\n",
    "# Concatenate the 'Type' column with 'X' and 'Y' columns\n",
    "data['Res_train'] = data['Model'] + \" - \" + data['Train_resolution'].astype(str)\n",
    "data['Res_test'] = data['Test_resolution'].astype(str).str.rstrip('p').astype(int)  # Remove 'p' from the resolution values\n",
    "\n",
    "# Pivot the data to create a correlation matrix\n",
    "correlation_data = data.pivot(index='Res_test', columns='Res_train', values='Test_Recall')\n",
    "\n",
    "# Sort the unique Testing and Training resolution values in ascending order\n",
    "sorted_resolutions_test = sorted(data['Res_test'].unique())\n",
    "\n",
    "# Sort the column names (Res_train) based on the resolution values in descending order\n",
    "sorted_resolutions_train = sorted(data['Res_train'].unique(), key=lambda x: int(x.split(\" - \")[1].replace(\"p\", \"\")), reverse=True)\n",
    "\n",
    "# Reorder the rows and columns of the correlation matrix based on the sorted resolution values\n",
    "correlation_data = correlation_data[sorted_resolutions_train]\n",
    "\n",
    "# Create the correlation heatmap\n",
    "plt.figure(figsize=(15, 5))\n",
    "ax = sns.heatmap(correlation_data, annot=True, cmap='coolwarm', fmt='.2f')\n",
    "\n",
    "# Add thin vertical lines every 5 columns\n",
    "for col in range(0, correlation_data.shape[1], 5):\n",
    "    ax.vlines(col, *ax.get_ylim(), colors='black', linewidth=1)\n",
    "\n",
    "# Rotate x-axis labels to have a slant (e.g., 45 degrees)\n",
    "ax.set_xticklabels(ax.get_xticklabels(), rotation=45, ha='right')\n",
    "\n",
    "# plt.title(\"Test Recall Matrix Heatmap\")\n",
    "# plt.xlabel(\"Model - Training resolution\")\n",
    "plt.xlabel(\"\")\n",
    "plt.ylabel(\"Testing resolution\")\n",
    "plt.show()"
   ]
  }
 ],
 "metadata": {
  "kernelspec": {
   "display_name": "base",
   "language": "python",
   "name": "python3"
  },
  "language_info": {
   "codemirror_mode": {
    "name": "ipython",
    "version": 3
   },
   "file_extension": ".py",
   "mimetype": "text/x-python",
   "name": "python",
   "nbconvert_exporter": "python",
   "pygments_lexer": "ipython3",
   "version": "3.11.3"
  },
  "orig_nbformat": 4
 },
 "nbformat": 4,
 "nbformat_minor": 2
}
